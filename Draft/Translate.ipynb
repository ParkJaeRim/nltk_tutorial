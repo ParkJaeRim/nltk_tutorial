{
 "cells": [
  {
   "cell_type": "markdown",
   "metadata": {},
   "source": [
    "<br>\n",
    "# **구글번역 덧붙이기**\n",
    "https://github.com/ssut/py-googletrans"
   ]
  },
  {
   "cell_type": "markdown",
   "metadata": {},
   "source": [
    "<br>\n",
    "## ** 1 자막 자동번역**\n",
    "구글 번역으로 작업을 확인하고, 파파고를 뒤에 덧붙이기"
   ]
  },
  {
   "cell_type": "code",
   "execution_count": null,
   "metadata": {},
   "outputs": [],
   "source": [
    "# src  = 'en', 'ko', 'la'\n",
    "# dest = 'en', 'ko', 'ja'\n",
    "text = '이번의 파이썬 수업은 장고를 중점으로 KAKAO BOT 을 응용하는 실전내용 입니다'"
   ]
  },
  {
   "cell_type": "code",
   "execution_count": 4,
   "metadata": {},
   "outputs": [
    {
     "name": "stdout",
     "output_type": "stream",
     "text": [
      "ko\n"
     ]
    },
    {
     "data": {
      "text/plain": [
       "'This Python lesson is about the application of KAKAO BOT with emphasis on Django'"
      ]
     },
     "execution_count": 4,
     "metadata": {},
     "output_type": "execute_result"
    }
   ],
   "source": [
    "from googletrans import Translator\n",
    "translator = Translator()\n",
    "result     = translator.translate(text, src='ko', dest='en')\n",
    "print(translator.detect(text).lang)\n",
    "result.text"
   ]
  },
  {
   "cell_type": "markdown",
   "metadata": {},
   "source": [
    "<br>\n",
    "## **2 src 자막 번역기 함수**\n",
    "외국어 자막을 한글로 자동 변환하기"
   ]
  },
  {
   "cell_type": "code",
   "execution_count": 1,
   "metadata": {},
   "outputs": [],
   "source": [
    "# Txt 파일 불러오기\n",
    "txt_result = []\n",
    "f = open(\"./Under.srt\", 'r')\n",
    "while True:\n",
    "    line = f.readline()\n",
    "    if not line: break\n",
    "    txt_result.append(line)\n",
    "f.close()"
   ]
  },
  {
   "cell_type": "code",
   "execution_count": 2,
   "metadata": {},
   "outputs": [],
   "source": [
    "# 번역에 불필요한 내용 제거\n",
    "def txt_corpus(txt):\n",
    "    word_corpus = ['<i>', '</i>', '.', '\\n', '-']\n",
    "    for temp in word_corpus:\n",
    "        if txt.find(temp) != -1:\n",
    "            txt = txt.replace(temp, '')\n",
    "    return txt"
   ]
  },
  {
   "cell_type": "code",
   "execution_count": 3,
   "metadata": {},
   "outputs": [
    {
     "data": {
      "text/plain": [
       "[['00:01:00,037 --> 00:01:01,410', ['So where do you think', \"you're going?\"]],\n",
       " ['00:01:01,411 --> 00:01:02,881', ['Just for a breath of fresh air']],\n",
       " ['00:01:02,882 --> 00:01:03,841', ['Tony']],\n",
       " ['00:01:03,842 --> 00:01:05,598', [\"He won't be back for hours\"]],\n",
       " ['00:01:05,599 --> 00:01:06,558', ['Tony!']]]"
      ]
     },
     "execution_count": 3,
     "metadata": {},
     "output_type": "execute_result"
    }
   ],
   "source": [
    "# srt 원본을 Dict 객체로 정리 (불필요한 텍스트 제거)\n",
    "result = []\n",
    "for no, txt in enumerate(txt_result):\n",
    "    if txt.find('-->') != -1:           # 시간 정보가 존재할 때\n",
    "        if len(txt_result[no+2]) < 2:   # 텍스트가 1줄\n",
    "            text = [txt_corpus(txt_result[no+1])]\n",
    "            time = txt_result[no].replace('\\n', '')\n",
    "            result.append( [time , text]  )\n",
    "        elif len(txt_result[no+3]) < 2: # 텍스트가 2줄\n",
    "            text = [txt_corpus(txt_result[no+1]),\n",
    "                    txt_corpus(txt_result[no+2])]\n",
    "            time = txt_result[no].replace('\\n', '')\n",
    "            result.append( [time , text]  )\n",
    "        elif len(txt_result[no+4]) < 2: # 텍스트가 3줄\n",
    "            text = [txt_corpus(txt_result[no+1]),\n",
    "                    txt_corpus(txt_result[no+2]), \n",
    "                    txt_corpus(txt_result[no+3])]\n",
    "            time = txt_result[no].replace('\\n', '')\n",
    "            result.append( [time , text]  )\n",
    "        else: pass\n",
    "result[:5]"
   ]
  },
  {
   "cell_type": "code",
   "execution_count": 4,
   "metadata": {},
   "outputs": [],
   "source": [
    "# 구글번역기 사용자 함수\n",
    "from googletrans import Translator\n",
    "import time\n",
    "def google_trans(txt, sleep=0, src='en', dest='ko'):\n",
    "    translator = Translator()\n",
    "    time.sleep(sleep) # API 호출간격을 설정\n",
    "    txt = translator.translate(txt, src=src, dest=dest)\n",
    "    txt = txt.text\n",
    "    return txt"
   ]
  },
  {
   "cell_type": "code",
   "execution_count": null,
   "metadata": {},
   "outputs": [
    {
     "name": "stdout",
     "output_type": "stream",
     "text": [
      "0 : 1478  -- line is Processing Now...\n",
      "150 : 1478  -- line is Processing Now...\n",
      "300 : 1478  -- line is Processing Now...\n",
      "450 : 1478  -- line is Processing Now...\n",
      "518 line is Error by Json\n",
      "519 line is Error by Json\n"
     ]
    }
   ],
   "source": [
    "# SRT 객체를 생성한다 \n",
    "import time\n",
    "total_num = len(result)\n",
    "for no in range(total_num):\n",
    "    if no % 150 == 0:\n",
    "        print(no, \":\", total_num, ' -- line is Processing Now...')\n",
    "    line_texts = result[no][1]\n",
    "    txt_result = []\n",
    "    for txt in line_texts:\n",
    "        try:\n",
    "            #txt_trans = papago_trans(txt, source='en')\n",
    "            #time.sleep(0.5)\n",
    "            txt_trans = google_trans(txt)  # 구글번역이 빠르고 반응성이 더 좋다\n",
    "            txt_result.append(txt_trans)\n",
    "        except:         # 번역작업에 오류가 발생시\n",
    "            txt_result.append(txt)\n",
    "            print(no, 'line is Error by Json')\n",
    "    result[no][1] = txt_result\n",
    "print('Translate is Done..!!')"
   ]
  },
  {
   "cell_type": "code",
   "execution_count": null,
   "metadata": {},
   "outputs": [],
   "source": [
    "f = open(\"./result.srt\", 'a')\n",
    "for no in range(len(result)):\n",
    "    temp = result[no] # 해당 줄 작업시작\n",
    "    f.write(str(no+1) + '\\n')     # 작업번호 입력\n",
    "    f.write(result[no][0] + '\\n') # Time line 입력\n",
    "    if len(result[no][1]) == 1:\n",
    "        f.write(result[no][1][0] + '\\n') # 대사1줄 저장\n",
    "    else:\n",
    "        for txt in result[no][1]:\n",
    "            if len(txt) < 2: pass\n",
    "            else:            f.write(txt + '\\n') # 대사를 저장\n",
    "    f.write('\\n')     # 마지막 여백추가\n",
    "f.close()\n",
    "print('Done!!')"
   ]
  },
  {
   "cell_type": "markdown",
   "metadata": {},
   "source": [
    "<br>\n",
    "# **자막번역을 파파고로 자동화 작업하기**"
   ]
  },
  {
   "cell_type": "code",
   "execution_count": 21,
   "metadata": {},
   "outputs": [],
   "source": [
    "def papago_trans(text, source='ko'):\n",
    "    # 네이버 기계번역 API 예제 : 1일 만단어 제한\n",
    "    import os, sys, urllib.request, time, json\n",
    "    client_id     = \"HCix79l7xff3LZ_DR_Re\"\n",
    "    client_secret = \"sDD1cOLSql\"\n",
    "    encText       = urllib.parse.quote(text)\n",
    "    url           = \"https://openapi.naver.com/v1/language/translate\"   \n",
    "    if source == 'ko':\n",
    "        data = \"source=ko&target=en&text=\" + encText # 한글을 영어로\n",
    "    elif source == 'en':\n",
    "        data = \"source=en&target=ko&text=\" + encText # 영어를 한글로\n",
    "    else : pass\n",
    "    request = urllib.request.Request(url)\n",
    "    request.add_header(\"X-Naver-Client-Id\",client_id)\n",
    "    request.add_header(\"X-Naver-Client-Secret\",client_secret)\n",
    "    response = urllib.request.urlopen(request, data=data.encode(\"utf-8\"))\n",
    "    rescode = response.getcode()\n",
    "    if(rescode==200):\n",
    "        response_body = response.read()\n",
    "        text          = response_body.decode('utf-8') \n",
    "        text          = json.loads(text)\n",
    "        return text['message']['result']['translatedText']\n",
    "    else:\n",
    "        return \"Error Code:\" + rescode + \" 다음의 원인으로 번역이 불가능 합니다\"    "
   ]
  },
  {
   "cell_type": "code",
   "execution_count": 17,
   "metadata": {},
   "outputs": [
    {
     "data": {
      "text/plain": [
       "\"I didn't think you were serious.\""
      ]
     },
     "execution_count": 17,
     "metadata": {},
     "output_type": "execute_result"
    }
   ],
   "source": [
    "papago_trans(\"I didn't think you were serious.\")"
   ]
  },
  {
   "cell_type": "code",
   "execution_count": null,
   "metadata": {},
   "outputs": [],
   "source": []
  },
  {
   "cell_type": "code",
   "execution_count": 22,
   "metadata": {},
   "outputs": [],
   "source": [
    "def myfunction():\n",
    "    myfunction.counter += 1\n",
    "\n",
    "myfunction.counter = 0"
   ]
  },
  {
   "cell_type": "code",
   "execution_count": null,
   "metadata": {},
   "outputs": [],
   "source": []
  },
  {
   "cell_type": "code",
   "execution_count": 27,
   "metadata": {},
   "outputs": [],
   "source": [
    "def multi_ten():\n",
    "    square_init = 10\n",
    "    \n",
    "    def square(x):\n",
    "        return square_init ** x\n",
    "    return square"
   ]
  },
  {
   "cell_type": "code",
   "execution_count": 28,
   "metadata": {},
   "outputs": [
    {
     "data": {
      "text/plain": [
       "100"
      ]
     },
     "execution_count": 28,
     "metadata": {},
     "output_type": "execute_result"
    }
   ],
   "source": [
    "f = multi_ten()\n",
    "f(2)"
   ]
  },
  {
   "cell_type": "code",
   "execution_count": 31,
   "metadata": {},
   "outputs": [
    {
     "data": {
      "text/plain": [
       "<cell at 0x7f7acd505858: int object at 0xa6dde0>"
      ]
     },
     "execution_count": 31,
     "metadata": {},
     "output_type": "execute_result"
    }
   ],
   "source": [
    "f.__closure__[0]"
   ]
  },
  {
   "cell_type": "code",
   "execution_count": null,
   "metadata": {},
   "outputs": [],
   "source": []
  },
  {
   "cell_type": "code",
   "execution_count": null,
   "metadata": {},
   "outputs": [],
   "source": []
  },
  {
   "cell_type": "code",
   "execution_count": 37,
   "metadata": {},
   "outputs": [],
   "source": [
    "def closure():\n",
    "    x = 10\n",
    "    \n",
    "    def inner():\n",
    "        y = 20\n",
    "        return x + y\n",
    "    \n",
    "    return inner"
   ]
  },
  {
   "cell_type": "code",
   "execution_count": 40,
   "metadata": {},
   "outputs": [
    {
     "data": {
      "text/plain": [
       "30"
      ]
     },
     "execution_count": 40,
     "metadata": {},
     "output_type": "execute_result"
    }
   ],
   "source": [
    "p = closure()\n",
    "p()"
   ]
  },
  {
   "cell_type": "code",
   "execution_count": 39,
   "metadata": {},
   "outputs": [
    {
     "data": {
      "text/plain": [
       "1"
      ]
     },
     "execution_count": 39,
     "metadata": {},
     "output_type": "execute_result"
    }
   ],
   "source": [
    "len(p.__closure__)"
   ]
  },
  {
   "cell_type": "code",
   "execution_count": 36,
   "metadata": {},
   "outputs": [
    {
     "data": {
      "text/plain": [
       "['__abs__',\n",
       " '__add__',\n",
       " '__and__',\n",
       " '__bool__',\n",
       " '__ceil__',\n",
       " '__class__',\n",
       " '__delattr__',\n",
       " '__dir__',\n",
       " '__divmod__',\n",
       " '__doc__',\n",
       " '__eq__',\n",
       " '__float__',\n",
       " '__floor__',\n",
       " '__floordiv__',\n",
       " '__format__',\n",
       " '__ge__',\n",
       " '__getattribute__',\n",
       " '__getnewargs__',\n",
       " '__gt__',\n",
       " '__hash__',\n",
       " '__index__',\n",
       " '__init__',\n",
       " '__init_subclass__',\n",
       " '__int__',\n",
       " '__invert__',\n",
       " '__le__',\n",
       " '__lshift__',\n",
       " '__lt__',\n",
       " '__mod__',\n",
       " '__mul__',\n",
       " '__ne__',\n",
       " '__neg__',\n",
       " '__new__',\n",
       " '__or__',\n",
       " '__pos__',\n",
       " '__pow__',\n",
       " '__radd__',\n",
       " '__rand__',\n",
       " '__rdivmod__',\n",
       " '__reduce__',\n",
       " '__reduce_ex__',\n",
       " '__repr__',\n",
       " '__rfloordiv__',\n",
       " '__rlshift__',\n",
       " '__rmod__',\n",
       " '__rmul__',\n",
       " '__ror__',\n",
       " '__round__',\n",
       " '__rpow__',\n",
       " '__rrshift__',\n",
       " '__rshift__',\n",
       " '__rsub__',\n",
       " '__rtruediv__',\n",
       " '__rxor__',\n",
       " '__setattr__',\n",
       " '__sizeof__',\n",
       " '__str__',\n",
       " '__sub__',\n",
       " '__subclasshook__',\n",
       " '__truediv__',\n",
       " '__trunc__',\n",
       " '__xor__',\n",
       " 'bit_length',\n",
       " 'conjugate',\n",
       " 'denominator',\n",
       " 'from_bytes',\n",
       " 'imag',\n",
       " 'numerator',\n",
       " 'real',\n",
       " 'to_bytes']"
      ]
     },
     "execution_count": 36,
     "metadata": {},
     "output_type": "execute_result"
    }
   ],
   "source": [
    "dir(p.__closure__[0].cell_contents)"
   ]
  },
  {
   "cell_type": "code",
   "execution_count": null,
   "metadata": {},
   "outputs": [],
   "source": []
  },
  {
   "cell_type": "code",
   "execution_count": 69,
   "metadata": {},
   "outputs": [],
   "source": [
    "def deco(func):    \n",
    "    def wrapper():\n",
    "        print(\"before --------\")\n",
    "        ret = func()\n",
    "        print('after  --------')\n",
    "        return ret\n",
    "    return wrapper"
   ]
  },
  {
   "cell_type": "code",
   "execution_count": 70,
   "metadata": {},
   "outputs": [],
   "source": [
    "@deco\n",
    "def base():\n",
    "    print(\"base function\")"
   ]
  },
  {
   "cell_type": "code",
   "execution_count": 71,
   "metadata": {},
   "outputs": [
    {
     "name": "stdout",
     "output_type": "stream",
     "text": [
      "before --------\n",
      "base function\n",
      "after  --------\n"
     ]
    }
   ],
   "source": [
    "base()"
   ]
  },
  {
   "cell_type": "code",
   "execution_count": 72,
   "metadata": {},
   "outputs": [],
   "source": [
    "def base():\n",
    "    print(\"base function\")\n",
    "\n",
    "deco(base)()"
   ]
  },
  {
   "cell_type": "code",
   "execution_count": 67,
   "metadata": {},
   "outputs": [
    {
     "name": "stdout",
     "output_type": "stream",
     "text": [
      "before --------\n",
      "before --------\n",
      "base function\n",
      "after  --------\n",
      "after  --------\n"
     ]
    }
   ],
   "source": [
    "deco(base)()"
   ]
  },
  {
   "cell_type": "code",
   "execution_count": null,
   "metadata": {},
   "outputs": [],
   "source": []
  },
  {
   "cell_type": "code",
   "execution_count": 74,
   "metadata": {},
   "outputs": [],
   "source": []
  },
  {
   "cell_type": "code",
   "execution_count": 77,
   "metadata": {},
   "outputs": [],
   "source": [
    "# \"func\"로 감싼 객체를 wrapper()를 추가 실행한다\n",
    "def measure_run_time(func):\n",
    "    def wrapper(*args, **kwargs):\n",
    "        start  = time.time()\n",
    "        result = func(*args, **kwargs)\n",
    "        end    = time.time()\n",
    "        print(\"{} function running time : {} sec\".format(func.__name__, int(end - start)))\n",
    "        return result\n",
    "    return wrapper"
   ]
  },
  {
   "cell_type": "code",
   "execution_count": 78,
   "metadata": {},
   "outputs": [],
   "source": [
    "import time\n",
    "\n",
    "@measure_run_time\n",
    "def worker(delay_time):\n",
    "    time.sleep(delay_time)"
   ]
  },
  {
   "cell_type": "code",
   "execution_count": 79,
   "metadata": {},
   "outputs": [
    {
     "name": "stdout",
     "output_type": "stream",
     "text": [
      "worker function running time : 4 sec\n"
     ]
    }
   ],
   "source": [
    "worker(4)"
   ]
  },
  {
   "cell_type": "markdown",
   "metadata": {},
   "source": [
    "<br>\n",
    "## **2개 이상의 Decorator를 사용**\n",
    "꼬이는 작업을 피하는 방법"
   ]
  },
  {
   "cell_type": "code",
   "execution_count": 83,
   "metadata": {},
   "outputs": [],
   "source": [
    "import time, datetime\n",
    "from functools import wraps\n",
    "\n",
    "def parameter_logger(func):    \n",
    "    @wraps(func)\n",
    "    def wrapper(*args, **kwargs):\n",
    "        timestamp = datetime.datetime.now().strftime(\"%Y-%m-%d %H:%M\")\n",
    "        print(\"[%s] args : %s, kwargs : %s\" %(timestamp, args, kwargs))\n",
    "        return func(*args, **kwargs)\n",
    "    return wrapper\n",
    "\n",
    "def measure_run_time(func):\n",
    "    @wraps(func)\n",
    "    def wrapper(*args, **kwargs):\n",
    "        start = time.time()\n",
    "        result = func(*args, **kwargs)\n",
    "        end = time.time()\n",
    "        print(\"{} function running time : {} sec\".format(func.__name__, int(end - start)))\n",
    "        return result\n",
    "    return wrapper"
   ]
  },
  {
   "cell_type": "code",
   "execution_count": 88,
   "metadata": {},
   "outputs": [],
   "source": [
    "@measure_run_time\n",
    "@parameter_logger\n",
    "def worker(delay_time):\n",
    "    time.sleep(delay_time)"
   ]
  },
  {
   "cell_type": "code",
   "execution_count": 90,
   "metadata": {},
   "outputs": [
    {
     "name": "stdout",
     "output_type": "stream",
     "text": [
      "[2018-07-14 15:28] args : (3,), kwargs : {}\n",
      "worker function running time : 3 sec\n"
     ]
    }
   ],
   "source": [
    "worker(3)"
   ]
  },
  {
   "cell_type": "code",
   "execution_count": null,
   "metadata": {},
   "outputs": [],
   "source": []
  },
  {
   "cell_type": "markdown",
   "metadata": {},
   "source": [
    "<br>\n",
    "## **3 클래스 객체 내부에서  Decorator 사용**\n",
    "def &nbsp;&nbsp; \\_\\_call\\_\\_ &nbsp;&nbsp; ():"
   ]
  },
  {
   "cell_type": "code",
   "execution_count": 91,
   "metadata": {},
   "outputs": [],
   "source": [
    "import time\n",
    "from functools import update_wrapper\n",
    "\n",
    "class MeasureRuntime:\n",
    "    # 클래스 생성자 정의\n",
    "    def __init__(self, f):\n",
    "        self.func = f\n",
    "        update_wrapper(self, self.func)\n",
    "    \n",
    "    # 클래스를 사용하기 위해 정의할 때 호출 \n",
    "    def __call__(self, *args, **kwargs):\n",
    "        start  = time.time()\n",
    "        result = self.func(*args, **kwargs)\n",
    "        end    = time.time()\n",
    "        print(\"{} function running time : {} sec\".format(self.func.__name__, int(end - start)))\n",
    "        return result"
   ]
  },
  {
   "cell_type": "code",
   "execution_count": 98,
   "metadata": {},
   "outputs": [
    {
     "name": "stdout",
     "output_type": "stream",
     "text": [
      "worker function running time : 3 sec\n"
     ]
    }
   ],
   "source": [
    "@MeasureRuntime\n",
    "def worker(delay_time):\n",
    "    time.sleep(delay_time)\n",
    "worker(3)"
   ]
  },
  {
   "cell_type": "code",
   "execution_count": 99,
   "metadata": {},
   "outputs": [],
   "source": [
    "## 단 데코레이터에서도 매개변수를 갖는 경우는 closure 를 써야한다"
   ]
  },
  {
   "cell_type": "code",
   "execution_count": null,
   "metadata": {},
   "outputs": [],
   "source": []
  },
  {
   "cell_type": "code",
   "execution_count": null,
   "metadata": {},
   "outputs": [],
   "source": []
  }
 ],
 "metadata": {
  "kernelspec": {
   "display_name": "Python 3",
   "language": "python",
   "name": "python3"
  },
  "language_info": {
   "codemirror_mode": {
    "name": "ipython",
    "version": 3
   },
   "file_extension": ".py",
   "mimetype": "text/x-python",
   "name": "python",
   "nbconvert_exporter": "python",
   "pygments_lexer": "ipython3",
   "version": "3.6.3"
  }
 },
 "nbformat": 4,
 "nbformat_minor": 2
}
