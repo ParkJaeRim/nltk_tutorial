{
 "cells": [
  {
   "cell_type": "markdown",
   "metadata": {},
   "source": [
    "<br>\n",
    "# **gTTS**\n",
    "1. MIT Licence 인 Python 모듈로 TTS 사용하기\n",
    "1. 네이버 클로버 TTS 종료 <strike>네이버 개XX</strike>\n",
    "1. https://developers.naver.com/notice/article/10000000000030660939"
   ]
  },
  {
   "cell_type": "code",
   "execution_count": 1,
   "metadata": {},
   "outputs": [],
   "source": [
    "from gtts import gTTS\n",
    "text =\"Hi, everybody. Playing with Python is fun!!!\"\n",
    "\n",
    "tts = gTTS(text=text, lang='en')\n",
    "tts.save(\"helloEN.mp3\")"
   ]
  },
  {
   "cell_type": "code",
   "execution_count": 13,
   "metadata": {},
   "outputs": [
    {
     "data": {
      "text/html": [
       "\n",
       "                <audio controls=\"controls\" autoplay=\"autoplay\">\n",
       "                    <source src=\"data:audio/mpeg;base64,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\" type=\"audio/mpeg\" />\n",
       "                    Your browser does not support the audio element.\n",
       "                </audio>\n",
       "              "
      ],
      "text/plain": [
       "<IPython.lib.display.Audio object>"
      ]
     },
     "execution_count": 13,
     "metadata": {},
     "output_type": "execute_result"
    }
   ],
   "source": [
    "# 한글도 잘 동작한다\n",
    "from gtts import gTTS\n",
    "text =\"박근혜 대통령님은 지금 어디에 계시나요? 빨갱이를 모두 죽이자??\"  \n",
    "\n",
    "tts = gTTS(text=text, lang='ko')\n",
    "tts.save(\"helloEN.mp3\")\n",
    "import IPython\n",
    "IPython.display.Audio(\"helloEN.mp3\",autoplay=True)"
   ]
  },
  {
   "cell_type": "code",
   "execution_count": 8,
   "metadata": {},
   "outputs": [
    {
     "data": {
      "text/plain": [
       "{'af': 'Afrikaans',\n",
       " 'ar': 'Arabic',\n",
       " 'bn': 'Bengali',\n",
       " 'bs': 'Bosnian',\n",
       " 'ca': 'Catalan',\n",
       " 'cs': 'Czech',\n",
       " 'cy': 'Welsh',\n",
       " 'da': 'Danish',\n",
       " 'de': 'German',\n",
       " 'el': 'Greek',\n",
       " 'en': 'English',\n",
       " 'en-au': 'English (Australia)',\n",
       " 'en-ca': 'English (Canada)',\n",
       " 'en-gb': 'English (UK)',\n",
       " 'en-gh': 'English (Ghana)',\n",
       " 'en-ie': 'English (Ireland)',\n",
       " 'en-in': 'English (India)',\n",
       " 'en-ng': 'English (Nigeria)',\n",
       " 'en-nz': 'English (New Zealand)',\n",
       " 'en-ph': 'English (Philippines)',\n",
       " 'en-tz': 'English (Tanzania)',\n",
       " 'en-uk': 'English (UK)',\n",
       " 'en-us': 'English (US)',\n",
       " 'en-za': 'English (South Africa)',\n",
       " 'eo': 'Esperanto',\n",
       " 'es': 'Spanish',\n",
       " 'es-es': 'Spanish (Spain)',\n",
       " 'es-us': 'Spanish (United States)',\n",
       " 'et': 'Estonian',\n",
       " 'fi': 'Finnish',\n",
       " 'fr': 'French',\n",
       " 'fr-ca': 'French (Canada)',\n",
       " 'fr-fr': 'French (France)',\n",
       " 'hi': 'Hindi',\n",
       " 'hr': 'Croatian',\n",
       " 'hu': 'Hungarian',\n",
       " 'hy': 'Armenian',\n",
       " 'id': 'Indonesian',\n",
       " 'is': 'Icelandic',\n",
       " 'it': 'Italian',\n",
       " 'ja': 'Japanese',\n",
       " 'jw': 'Javanese',\n",
       " 'km': 'Khmer',\n",
       " 'ko': 'Korean',\n",
       " 'la': 'Latin',\n",
       " 'lv': 'Latvian',\n",
       " 'mk': 'Macedonian',\n",
       " 'ml': 'Malayalam',\n",
       " 'mr': 'Marathi',\n",
       " 'ne': 'Nepali',\n",
       " 'nl': 'Dutch',\n",
       " 'no': 'Norwegian',\n",
       " 'pl': 'Polish',\n",
       " 'pt': 'Portuguese',\n",
       " 'pt-br': 'Portuguese (Brazil)',\n",
       " 'pt-pt': 'Portuguese (Portugal)',\n",
       " 'ro': 'Romanian',\n",
       " 'ru': 'Russian',\n",
       " 'si': 'Sinhala',\n",
       " 'sk': 'Slovak',\n",
       " 'sq': 'Albanian',\n",
       " 'sr': 'Serbian',\n",
       " 'su': 'Sundanese',\n",
       " 'sv': 'Swedish',\n",
       " 'sw': 'Swahili',\n",
       " 'ta': 'Tamil',\n",
       " 'te': 'Telugu',\n",
       " 'th': 'Thai',\n",
       " 'tl': 'Filipino',\n",
       " 'tr': 'Turkish',\n",
       " 'uk': 'Ukrainian',\n",
       " 'vi': 'Vietnamese',\n",
       " 'zh-cn': 'Chinese (Mandarin/China)',\n",
       " 'zh-tw': 'Chinese (Mandarin/Taiwan)'}"
      ]
     },
     "execution_count": 8,
     "metadata": {},
     "output_type": "execute_result"
    }
   ],
   "source": [
    "# 실행가능한 언어목록\n",
    "from gtts import lang\n",
    "lang.tts_langs()"
   ]
  },
  {
   "cell_type": "code",
   "execution_count": 11,
   "metadata": {},
   "outputs": [],
   "source": [
    "from gtts import gTTS\n",
    "from io import BytesIO\n",
    "\n",
    "mp3_fp = BytesIO()\n",
    "tts = gTTS('아침이 밝았습니다. 어서 일어나세요', 'ko')\n",
    "tts.write_to_fp(mp3_fp)"
   ]
  },
  {
   "cell_type": "markdown",
   "metadata": {},
   "source": [
    "<br>\n",
    "# **구글번역 덧붙이기**\n",
    "https://github.com/ssut/py-googletrans"
   ]
  },
  {
   "cell_type": "code",
   "execution_count": 3,
   "metadata": {},
   "outputs": [
    {
     "data": {
      "text/plain": [
       "'Good morning.'"
      ]
     },
     "execution_count": 3,
     "metadata": {},
     "output_type": "execute_result"
    }
   ],
   "source": [
    "from googletrans import Translator\n",
    "translator = Translator()\n",
    "result = translator.translate('안녕하세요.')\n",
    "result.text"
   ]
  },
  {
   "cell_type": "code",
   "execution_count": 7,
   "metadata": {},
   "outputs": [
    {
     "data": {
      "text/plain": [
       "'텐서 흐름의 RNN 모듈의 기능'"
      ]
     },
     "execution_count": 7,
     "metadata": {},
     "output_type": "execute_result"
    }
   ],
   "source": [
    "from googletrans import Translator\n",
    "translator = Translator()\n",
    "result = translator.translate('The function of the RNN module of the tensor flow', dest='ko')\n",
    "result.text"
   ]
  },
  {
   "cell_type": "code",
   "execution_count": 9,
   "metadata": {},
   "outputs": [
    {
     "data": {
      "text/plain": [
       "'This Python lesson is about the application of KAKAO BOT with emphasis on Django'"
      ]
     },
     "execution_count": 9,
     "metadata": {},
     "output_type": "execute_result"
    }
   ],
   "source": [
    "result = translator.translate('이번의 파이썬 수업은 장고를 중점으로 KAKAO BOT 을 응용하는 실전내용 입니다')\n",
    "result.text"
   ]
  },
  {
   "cell_type": "code",
   "execution_count": 5,
   "metadata": {},
   "outputs": [
    {
     "data": {
      "text/plain": [
       "'こんにちは。'"
      ]
     },
     "execution_count": 5,
     "metadata": {},
     "output_type": "execute_result"
    }
   ],
   "source": [
    "result = translator.translate('안녕하세요.', dest='ja')\n",
    "# <Translated src=ko dest=ja text=こんにちは。 pronunciation=Kon'nichiwa.>\n",
    "result.text"
   ]
  },
  {
   "cell_type": "code",
   "execution_count": 6,
   "metadata": {},
   "outputs": [
    {
     "data": {
      "text/plain": [
       "'The truth is my light'"
      ]
     },
     "execution_count": 6,
     "metadata": {},
     "output_type": "execute_result"
    }
   ],
   "source": [
    "result = translator.translate('veritas lux mea', src='la')\n",
    "# <Translated src=la dest=en text=The truth is my light pronunciation=The truth is my light>\n",
    "result.text"
   ]
  },
  {
   "cell_type": "code",
   "execution_count": 4,
   "metadata": {},
   "outputs": [
    {
     "name": "stdout",
     "output_type": "stream",
     "text": [
      "The quick brown fox  ->  빠른 갈색 여우\n",
      "jumps over  ->  점프하다\n",
      "the lazy dog  ->  게으른 개\n"
     ]
    }
   ],
   "source": [
    "translations = translator.translate(['The quick brown fox', 'jumps over', 'the lazy dog'], dest='ko')\n",
    "for translation in translations:\n",
    "    print(translation.origin, ' -> ', translation.text)"
   ]
  },
  {
   "cell_type": "code",
   "execution_count": 12,
   "metadata": {},
   "outputs": [
    {
     "data": {
      "text/plain": [
       "'ko'"
      ]
     },
     "execution_count": 12,
     "metadata": {},
     "output_type": "execute_result"
    }
   ],
   "source": [
    "# 문장이 어떤 언어인지를 자동으로 감지한다\n",
    "from googletrans import Translator\n",
    "translator = Translator()\n",
    "result     = translator.detect('이 문장은 한글로 쓰여졌습니다.')\n",
    "result.lang"
   ]
  },
  {
   "cell_type": "markdown",
   "metadata": {},
   "source": [
    "<br>\n",
    "# **파파고 번역봇 API 연결하기**\n",
    "https://developers.naver.com/products/login/api/"
   ]
  },
  {
   "cell_type": "code",
   "execution_count": 1,
   "metadata": {},
   "outputs": [],
   "source": [
    "text = '이 문장은 한글로 쓰여졌습니다.'\n",
    "def papago_translate(text):\n",
    "    # 네이버 기계번역 API 예제\n",
    "    # 1일 만단어 제한\n",
    "    # 20개 5000문장까지 번역가능\n",
    "    import os, sys, urllib.request\n",
    "    client_id = \"HCix79l7xff3LZ_DR_Re\"\n",
    "    client_secret = \"sDD1cOLSql\"\n",
    "    encText = urllib.parse.quote(text)\n",
    "    url = \"https://openapi.naver.com/v1/language/translate\"\n",
    "\n",
    "    # 문장이 어떤 언어인지를 자동으로 감지한다\n",
    "    from googletrans import Translator\n",
    "    translator = Translator()\n",
    "    result     = translator.detect(text)\n",
    "    # print(result.lang)\n",
    "#     if result.lang == 'ko':\n",
    "#         data = \"source=ko&target=en&text=\" + encText # 한글을 영어로\n",
    "#     else:\n",
    "#         data = \"source=en&target=ko&text=\" + encText # 영어를 한글로\n",
    "    data = \"source=en&target=ko&text=\" + encText # 영어를 한글로\n",
    "    request = urllib.request.Request(url)\n",
    "    request.add_header(\"X-Naver-Client-Id\",client_id)\n",
    "    request.add_header(\"X-Naver-Client-Secret\",client_secret)\n",
    "    response = urllib.request.urlopen(request, data=data.encode(\"utf-8\"))\n",
    "    rescode = response.getcode()\n",
    "    if(rescode==200):\n",
    "        response_body = response.read()\n",
    "        text = response_body.decode('utf-8') \n",
    "        import json\n",
    "        text = json.loads(text)\n",
    "        return text['message']['result']['translatedText']\n",
    "    else:\n",
    "        return \"Error Code:\" + rescode + \" 다음의 원인으로 번역이 불가능 합니다\"    "
   ]
  },
  {
   "cell_type": "code",
   "execution_count": 2,
   "metadata": {},
   "outputs": [
    {
     "data": {
      "text/plain": [
       "'나는 진심도 없다고 생각했어.'"
      ]
     },
     "execution_count": 2,
     "metadata": {},
     "output_type": "execute_result"
    }
   ],
   "source": [
    "papago_translate(\"I didn't think you were serious.\")"
   ]
  },
  {
   "cell_type": "markdown",
   "metadata": {},
   "source": [
    "<br>\n",
    "# **자막번역을 파파고로 자동화 작업하기**"
   ]
  },
  {
   "cell_type": "code",
   "execution_count": 83,
   "metadata": {},
   "outputs": [],
   "source": [
    "# readline_all.py\n",
    "text_result = []\n",
    "f = open(\"./Amar.txt\", 'r')\n",
    "while True:\n",
    "    line = f.readline()\n",
    "    if not line: \n",
    "        break\n",
    "    text_result.append(line)\n",
    "f.close()"
   ]
  },
  {
   "cell_type": "code",
   "execution_count": 84,
   "metadata": {},
   "outputs": [
    {
     "data": {
      "text/plain": [
       "['1\\n', '2\\n', '3\\n']"
      ]
     },
     "execution_count": 84,
     "metadata": {},
     "output_type": "execute_result"
    }
   ],
   "source": [
    "result = []\n",
    "for txt in text_result[:10]:\n",
    "    txt = txt.replace('\\n', '')\n",
    "\n",
    "    # 인덱스 숫자를 추출하여 작업을 한다\n",
    "    if len(txt) < 3 :\n",
    "        try:\n",
    "            # 해당줄의 데이터가 숫자만 있을 때 작업을 넘긴다\n",
    "            txt = int(txt)\n",
    "            result.append(str(txt) + '\\n')\n",
    "        except:\n",
    "            if txt.find('-->') != -1:\n",
    "                result.append(txt + '\\n')\n",
    "            else:\n",
    "                try:\n",
    "                    word_filter = ['<i>', '</i>']\n",
    "                    for temp in word_filter:\n",
    "                        if txt.find(temp) != -1:\n",
    "                            txt = txt.replace(temp, '')\n",
    "                    txt = papago_translate(txt)\n",
    "                    result.append(txt + '\\n')\n",
    "                except:\n",
    "                    pass\n",
    "result"
   ]
  },
  {
   "cell_type": "code",
   "execution_count": 85,
   "metadata": {},
   "outputs": [],
   "source": [
    "text= ''\n"
   ]
  },
  {
   "cell_type": "code",
   "execution_count": 74,
   "metadata": {},
   "outputs": [
    {
     "ename": "ValueError",
     "evalue": "invalid literal for int() with base 10: ''",
     "output_type": "error",
     "traceback": [
      "\u001b[0;31m---------------------------------------------------------------------------\u001b[0m",
      "\u001b[0;31mValueError\u001b[0m                                Traceback (most recent call last)",
      "\u001b[0;32m<ipython-input-74-8b983cd24644>\u001b[0m in \u001b[0;36m<module>\u001b[0;34m()\u001b[0m\n\u001b[0;32m----> 1\u001b[0;31m \u001b[0mint\u001b[0m\u001b[0;34m(\u001b[0m\u001b[0mtext\u001b[0m\u001b[0;34m)\u001b[0m\u001b[0;34m\u001b[0m\u001b[0m\n\u001b[0m",
      "\u001b[0;31mValueError\u001b[0m: invalid literal for int() with base 10: ''"
     ]
    }
   ],
   "source": [
    "int(text)"
   ]
  },
  {
   "cell_type": "code",
   "execution_count": 72,
   "metadata": {},
   "outputs": [
    {
     "name": "stdout",
     "output_type": "stream",
     "text": [
      "Done!!\n"
     ]
    }
   ],
   "source": [
    "# f = open(\"./result.txt\", 'w')\n",
    "f = open(\"./result.txt\", 'a')\n",
    "txt = ''\n",
    "for txt in result:\n",
    "    txt += txt\n",
    "    f.write(txt)\n",
    "f.close()\n",
    "print('Done!!')"
   ]
  },
  {
   "cell_type": "code",
   "execution_count": null,
   "metadata": {},
   "outputs": [],
   "source": [
    "# f = open(\"./result.txt\", 'w')\n",
    "f = open(\"./result.txt\", 'a')\n",
    "f.write(txt + '\\n')\n",
    "f.close()\n",
    "print('Done!!')"
   ]
  },
  {
   "cell_type": "code",
   "execution_count": null,
   "metadata": {},
   "outputs": [],
   "source": []
  },
  {
   "cell_type": "code",
   "execution_count": null,
   "metadata": {},
   "outputs": [],
   "source": []
  },
  {
   "cell_type": "code",
   "execution_count": null,
   "metadata": {},
   "outputs": [],
   "source": []
  },
  {
   "cell_type": "markdown",
   "metadata": {},
   "source": [
    "<br>\n",
    "# **Data_set Test**"
   ]
  },
  {
   "cell_type": "code",
   "execution_count": null,
   "metadata": {},
   "outputs": [],
   "source": []
  }
 ],
 "metadata": {
  "kernelspec": {
   "display_name": "Python 3",
   "language": "python",
   "name": "python3"
  },
  "language_info": {
   "codemirror_mode": {
    "name": "ipython",
    "version": 3
   },
   "file_extension": ".py",
   "mimetype": "text/x-python",
   "name": "python",
   "nbconvert_exporter": "python",
   "pygments_lexer": "ipython3",
   "version": "3.6.3"
  }
 },
 "nbformat": 4,
 "nbformat_minor": 2
}
