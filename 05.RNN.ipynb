{
 "cells": [
  {
   "cell_type": "markdown",
   "metadata": {},
   "source": [
    "<br>\n",
    "# **RNN 과 LSTM**\n",
    "자연어에서 딥러닝의 활용 : Machine Learning for Natural Language"
   ]
  },
  {
   "cell_type": "markdown",
   "metadata": {},
   "source": [
    "<br></br>\n",
    "## **1 CNN**\n",
    "\n",
    "Text 분류를 CNN을 사용하여 훈련모델을 생성 [Blog](http://docs.likejazz.com/cnn-text-classification-tf/)\n",
    "\n",
    "1. <strong>Convolution Neural Network</strong> : 2D convolution 예제\n",
    "1. <strong>Convolution Layer : 합성곱 계층</strong>으로 가중치와 편향을 적용한다\n",
    "1. <strong>Pooling Layer</strong> : 단순히 최적의 값을 선택하여 가져온다\n",
    "1. <strong>Kernel</strong> : 3x3 <strong>Kernel</strong>을, 1 <strong>stride</strong> 씩 이동하며 <strong>Convolution layer</strong>를 생성\n",
    "\n",
    "\n",
    "<img src=\"http://www.wildml.com/wp-content/uploads/2015/11/Screen-Shot-2015-11-06-at-8.03.47-AM-1024x413.png\" align=\"left\" width='800'>"
   ]
  },
  {
   "cell_type": "markdown",
   "metadata": {},
   "source": [
    "<br></br>\n",
    "## **2 LSTM - RNN을 사용한 단어 자동완성 모델 학습하기**\n",
    "1. 4개의 글자를 가진 단어를 학습시켜, 3글자만 주어지면 나머지 한 글자를 추천하여 단어를 완성한다.\n",
    "1. Basic RNN과 비교하여, Cell 거리에 따른 비중을 반영하여 (tan h) 모델을 생성한다\n",
    "\n",
    "1. <strong>RNN Cell 3개 : 128개 신경망, Drop Out, 128개 신경망</strong>\n",
    "1. 자연어 처리나 음성 처리 분야에 많이 사용\n",
    "1. 4개의 글자를 가진 단어를 학습시켜, 3글자만 주어지면 나머지 한 글자를 추천하여 단어를 완성\n",
    "\n",
    "<img src=\"https://www.kdnuggets.com/wp-content/uploads/RNN.jpg\" align=\"left\" width='400'>\n",
    "\n",
    "<img src=\"https://kakalabblog.files.wordpress.com/2017/04/c968d4ad-390d-4235-9144-97572181c9f9.png\">"
   ]
  },
  {
   "cell_type": "markdown",
   "metadata": {},
   "source": [
    "<br></br>\n",
    "### **01 알파벳을 기본으로 학습 데이터 정의**\n",
    "텍스트의 알파벳을 One-hot encoding 으로 세분화된 모델 만들기"
   ]
  },
  {
   "cell_type": "code",
   "execution_count": 1,
   "metadata": {},
   "outputs": [],
   "source": [
    "import tensorflow as tf\n",
    "import numpy as np\n",
    "\n",
    "# rar 알파벳 목록을 One-Hot 인코딩 배열생성 : {'a':0, 'b':1, 'c':2, ... ,}\n",
    "char_arr = ['a', 'b', 'c', 'd', 'e', 'f', 'g', 'h', 'i', 'j', 'k', 'l', 'm', 'n',\n",
    "            'o', 'p', 'q', 'r', 's', 't', 'u', 'v', 'w', 'x', 'y', 'z']\n",
    "num_dic  = {n: i for i, n in enumerate(char_arr)}\n",
    "dic_len  = len(num_dic)"
   ]
  },
  {
   "cell_type": "code",
   "execution_count": 2,
   "metadata": {},
   "outputs": [],
   "source": [
    "# 알파벳 배열을 인덱스 번호로 변환 : input_batch, target_batch 에 적용 \n",
    "# [22, 14, 17] [22, 14, 14] [3, 4, 4] [3, 8, 21] ...\n",
    "# np.eye() 대각성분은 '1', 나머지 '0'인 항등행렬/ 단위행렬을 생성한다\n",
    "def make_batch(seq_data):\n",
    "    input_batch, target_batch = [], []\n",
    "    # 단어의 알파벳을 one-hot을 batch 데이터 생성\n",
    "    for seq in seq_data: \n",
    "        input_num = [num_dic[n] for n in seq[:-1]]  # 3, 3, 15, 4, 3 ...\n",
    "        target    = num_dic[seq[-1]]                \n",
    "        input_batch.append(np.eye(dic_len)[input_num]) # 출력 1 : one-hot 인코딩\n",
    "        target_batch.append(target)                    # 출력 2 : one-hot 인덱스값\n",
    "    return input_batch, target_batch"
   ]
  },
  {
   "cell_type": "markdown",
   "metadata": {},
   "source": [
    "<br></br>\n",
    "### **02 LSTM 모델을 정의하기**\n",
    "1. Tensorflow 파라미터 정의하기\n",
    "1. LSTM 모델 Graph 정의하기\n",
    "1. Cost, 최적화 함수 정의하기"
   ]
  },
  {
   "cell_type": "code",
   "execution_count": 3,
   "metadata": {},
   "outputs": [],
   "source": [
    "# 1. RNN 신경망 모델 정의\n",
    "# (1) 파라미터 설정 : RNN 시퀀스 갯수  ex) 타입 스텝: [1 2 3] => 3\n",
    "tf.reset_default_graph()          # tf 매개변수 초기화 함수 \n",
    "learning_rate = 0.01\n",
    "n_step = 3                        # 전체 단어중 처음 3글자를 단계적 학습\n",
    "n_hidden, total_epoch = 64, 30\n",
    "n_input = n_class = dic_len       # 출력, 입력값 모두 26 (알파벳 one-hot을 사용)"
   ]
  },
  {
   "cell_type": "code",
   "execution_count": 4,
   "metadata": {},
   "outputs": [],
   "source": [
    "# (2) 알파벳 one-hot 인코딩으로 26개 값으로 출력\n",
    "# cost함수 : sparse_softmax_cross_entropy_with_logits 는 인덱스를 그대로 사용\n",
    "# if) one-hot 인코딩 사용 시 : ( tf.float23, [None, n_class] )\n",
    "# 1번 학습시 batch 에 해당하는 크기의 데이터를 사용한다 \n",
    "X = tf.placeholder(tf.float32, [None, n_step, n_input])\n",
    "Y = tf.placeholder(tf.int32,   [None])  # one-hot 의 인덱스데이터 사용 ex) [2], [12] ...\n",
    "\n",
    "W = tf.Variable(tf.random_normal([n_hidden, n_class])) #, reuse=True)\n",
    "b = tf.Variable(tf.random_normal([n_class]))           #, reuse=True)  #https://github.com/tensorflow/tensorflow/issues/799"
   ]
  },
  {
   "cell_type": "code",
   "execution_count": 5,
   "metadata": {},
   "outputs": [],
   "source": [
    "# (3) RNN 셀의 정의\n",
    "cell1 = tf.nn.rnn_cell.BasicLSTMCell(n_hidden)\n",
    "# 과적합을 방지하기 위하여 Dropout을 설정\n",
    "cell1 = tf.nn.rnn_cell.DropoutWrapper(cell1, output_keep_prob=0.5)    \n",
    "cell2 = tf.nn.rnn_cell.BasicLSTMCell(n_hidden)         \n",
    "multi_cell = tf.nn.rnn_cell.MultiRNNCell([cell1, cell2]) # Cell1, Cell2를 조합한 RNN 셀"
   ]
  },
  {
   "cell_type": "code",
   "execution_count": 6,
   "metadata": {},
   "outputs": [],
   "source": [
    "# (4) 최종 결과는 one-hot 인코딩 형식으로 변환\n",
    "# tf.nn.dynamic_rnn 를 이용해 순환 신경망(Deep RNN)을 생성 (time_major = True)\n",
    "outputs, states = tf.nn.dynamic_rnn(multi_cell, X, dtype=tf.float32)\n",
    "outputs = tf.transpose(outputs, [1, 0, 2])\n",
    "outputs = outputs[-1]\n",
    "model   = tf.matmul(outputs, W) + b"
   ]
  },
  {
   "cell_type": "code",
   "execution_count": 7,
   "metadata": {},
   "outputs": [],
   "source": [
    "# softmax_cross_entropy_with_logits : 텍스트 데이터 one-hot의 index 를 받는다\n",
    "cost = tf.reduce_mean(tf.nn.sparse_softmax_cross_entropy_with_logits(\n",
    "                      logits = model, labels = Y))\n",
    "optimizer = tf.train.AdamOptimizer(learning_rate).minimize(cost)"
   ]
  },
  {
   "cell_type": "markdown",
   "metadata": {},
   "source": [
    "<br></br>\n",
    "### **03 모델을 Train 하기**\n",
    "1. 학습 데이터를 입력\n",
    "1. Graph 모델을 Tensorflow 의 Session을 활용하여 학습하기"
   ]
  },
  {
   "cell_type": "code",
   "execution_count": 8,
   "metadata": {},
   "outputs": [],
   "source": [
    "# Train 데이터를 정의한다\n",
    "seq_data = ['word', 'wood', 'deep', 'dive', 'cold', 'cool', 'load', 'love', 'kiss', 'kind']"
   ]
  },
  {
   "cell_type": "code",
   "execution_count": 9,
   "metadata": {},
   "outputs": [
    {
     "name": "stdout",
     "output_type": "stream",
     "text": [
      "Epoch: 1.0000 cost = 3.670792\n",
      "Epoch: 5.0000 cost = 1.703650\n",
      "Epoch: 9.0000 cost = 0.649892\n",
      "Epoch: 13.0000 cost = 0.582221\n",
      "Epoch: 17.0000 cost = 0.440267\n",
      "Epoch: 21.0000 cost = 0.229660\n",
      "Epoch: 25.0000 cost = 0.204612\n",
      "Epoch: 29.0000 cost = 0.195957\n",
      "최적화 완료!\n"
     ]
    }
   ],
   "source": [
    "# 2. RNN 신경망 학습\n",
    "sess = tf.Session()\n",
    "\n",
    "sess.run(tf.global_variables_initializer())\n",
    "input_batch, target_batch = make_batch(seq_data)\n",
    "# save_file = './data/word_model.ckpt'\n",
    "# saver = tf.train.Saver(tf.global_variables())\n",
    "for epoch in range(total_epoch):\n",
    "    _, loss = sess.run([optimizer, cost],\n",
    "                       feed_dict={X: input_batch, Y: target_batch})\n",
    "    if epoch % 4 == 0:\n",
    "        print('Epoch: {:.4f} cost = {:.6f}'.format(epoch + 1, loss))\n",
    "# saver.save(sess, save_file)\n",
    "print('최적화 완료!')"
   ]
  },
  {
   "cell_type": "markdown",
   "metadata": {},
   "source": [
    "<br></br>\n",
    "### **04 학습한 모델의 성능확인 및 평가**\n",
    "예측 데이터를 활용하여 모델의 정확성 판단하기"
   ]
  },
  {
   "cell_type": "code",
   "execution_count": 10,
   "metadata": {},
   "outputs": [],
   "source": [
    "# 3. 모델의 성능을 평가 (레이블이 one-hot 인덱스 정수이므로, 예측값도 정수로 변경)\n",
    "# tf.cast(x, dtype, name=None) : 텐서를 새로운 자료형으로 변환\n",
    "prediction       = tf.cast(tf.argmax(model, 1), tf.int32) # one-hot의 인덱스 추출\n",
    "prediction_check = tf.equal(prediction, Y)                # 입력값을 Target 과 비교한다\n",
    "accuracy         = tf.reduce_mean(tf.cast(prediction_check, tf.float32))\n",
    "\n",
    "input_batch, target_batch = make_batch(seq_data)\n",
    "predict, accuracy_val     = sess.run([prediction, accuracy],\n",
    "                                 feed_dict={X: input_batch, Y: target_batch})"
   ]
  },
  {
   "cell_type": "code",
   "execution_count": 11,
   "metadata": {},
   "outputs": [
    {
     "name": "stdout",
     "output_type": "stream",
     "text": [
      "\n",
      "=== 예측 결과 ===\n",
      "입력값: ['wo ', 'wo ', 'de ', 'di ', 'co ', 'co ', 'lo ', 'lo ', 'ki ', 'ki ']\n",
      "예측값: ['wod', 'wod', 'dep', 'die', 'cod', 'cod', 'lod', 'loe', 'kis', 'kid']\n",
      "정확도: 0.9\n"
     ]
    }
   ],
   "source": [
    "predict_words = []\n",
    "for idx, val in enumerate(seq_data):\n",
    "    last_char = char_arr[predict[idx]]\n",
    "    predict_words.append(val[:2] + last_char)\n",
    "\n",
    "print('\\n=== 예측 결과 ===')\n",
    "print('입력값:', [w[:-2] + ' ' for w in seq_data])\n",
    "print('예측값:', predict_words)\n",
    "print('정확도:', accuracy_val)\n",
    "sess.close()"
   ]
  },
  {
   "cell_type": "markdown",
   "metadata": {},
   "source": [
    "<br>\n",
    "## **3 Seq 2 Seq : 구글의 기계번역에 사용하는 신경망 모델**\n",
    "Seq2Seq는 구글 기계번역에 사용하는 신경망 모델이다 (http://aidev.co.kr/deeplearning/2273)\n",
    "1. LSTM 셀을 여러개 합쳐진 모델을 활용\n",
    "1. GAN 의 Encoder 와 Decoder 를 합친 학습모델을 만드는데 유용하다\n",
    "1. LSTM 보다 위상값 차이를 더 확실하게 학습이 가능하여, 문장의 학습 및 출력용 모델을 만드는데 적합하다\n",
    "1. 입력 RNN과 출력 신경망의 조합한 모델로써, 입력된 문장과 출력된 문장간의 학습시 사용된다\n",
    "1. LSTM을 encoder 와 Decode로 분리하여 단위 뉴런의 길이가 더 길고 위상값이 서로다른 다른 모델을 학습한다\n",
    "1. [챗봇 블로그](http://yujuwon.tistory.com/entry/TENSORFLOW-seq2seq-%EA%B8%B0%EB%B0%98-%EC%B1%97%EB%B4%87-%EB%A7%8C%EB%93%A4%EA%B8%B0)\n",
    "1. <strong>'RNN 인코더 셀'</strong> (A, B, C) 과 <strong>'RNN 디코더 셀'</strong> (W, X, Y, X) RNN 2개 모델을 결합한다\n",
    "1. 기본모델에 <strong>특수함 심벌</strong> ((1) 입력의 시작을 알림 (2) 디코더 출력이 끝남을 알림)을 포함한다 \n",
    "1. <strong>'챗봇', '번역', '이미지 캡셔닝'</strong> 등의 모델을 생성한다\n",
    "1. 문장등을 입력받은 뒤 <strong>문장의 번역</strong>등을 출력한다\n",
    "\n",
    "<img src=\"https://t1.daumcdn.net/cfile/tistory/24FA50335965BB032F?original\" align=\"left\" width=\"800\">"
   ]
  },
  {
   "cell_type": "markdown",
   "metadata": {},
   "source": [
    "<br>\n",
    "### **01 모델의 정의**\n",
    "1. Data, Cell, Graph를 정의하고\n",
    "1. Cost 함수, Optimze 함수를 선택한다"
   ]
  },
  {
   "cell_type": "code",
   "execution_count": null,
   "metadata": {},
   "outputs": [],
   "source": [
    "# 영어 단어를 한국어 단어로 번역하는 프로그램을 만들어봅니다.\n",
    "import tensorflow as tf\n",
    "import numpy as np"
   ]
  },
  {
   "cell_type": "code",
   "execution_count": 12,
   "metadata": {},
   "outputs": [],
   "source": [
    "# 1. Input Data를 설정한다\n",
    "# (1) elements 를 정의한 뒤 (알파벳과 한글), {dict} 데이터 형식으로 변환\n",
    "\n",
    "# S: 디코딩 입력의 시작을 나타내는 심볼\n",
    "# E: 디코딩 출력을 끝을 나타내는 심볼\n",
    "# P: 현재 배치 데이터의 time step 크기보다 작은 경우 빈 시퀀스를 채우는 심볼\n",
    "#    예) 현재 배치 데이터의 최대 크기가 4 인 경우\n",
    "#       word -> ['w', 'o', 'r', 'd'] ||  to   -> ['t', 'o', 'P', 'P']\n",
    "char_arr = [ c for c in 'SPabcdefghijklmnopqrstuvwxyz나놀녀단랑무사소스어이키E'] \n",
    "num_dic  = { n : i for i, n in enumerate(char_arr)}\n",
    "dic_len  = len(num_dic)"
   ]
  },
  {
   "cell_type": "code",
   "execution_count": 13,
   "metadata": {},
   "outputs": [],
   "source": [
    "# (2) 번역학습 데이터 입력\n",
    "seq_data = [['word', '단어'], ['wood', '나무'], ['game', '놀이'], \n",
    "            ['girl', '소녀'], ['kiss', '키스'], ['love', '사랑']]\n",
    "\n",
    "# (3) 데이터를 One-Hot-Encoding 으로 변환\n",
    "def make_batch(seq_data):\n",
    "    input_batch, output_batch, target_batch = [], [], []\n",
    "    for seq in seq_data:\n",
    "        input = [num_dic[n] for n in seq[0]]           # 인코더 셀 입력값 : 입력단어를 한글자씩 떼어 배열생성\n",
    "        output = [num_dic[n] for n in ('S' + seq[1])]  # 디코더 셀 입력값 : 시작을 나타내는 'S'심볼을 맨 앞에 붙인다\n",
    "        target = [num_dic[n] for n in (seq[1] + 'E')]  # 디코더 셀 출력값 : 비교값으로, 끝을 알리기 위해 끝에 'E'를 붙인다\n",
    "        input_batch.append(np.eye(dic_len)[input])\n",
    "        output_batch.append(np.eye(dic_len)[output])\n",
    "        # 출력값만 one-hot 인코딩이 아니다 (sparse_softmax_cross_entropy_with_logits 사용)\n",
    "        target_batch.append(target)\n",
    "    return input_batch, output_batch, target_batch"
   ]
  },
  {
   "cell_type": "code",
   "execution_count": 14,
   "metadata": {},
   "outputs": [],
   "source": [
    "# 2. 모델의 정의\n",
    "# (1) 파라미터값 설정\n",
    "tf.reset_default_graph()      # tf 매개변수를 초기화 \n",
    "learning_rate = 0.01\n",
    "n_hidden, total_epoch = 128, 100\n",
    "n_class = n_input = dic_len  # 입력과 출력 : one-hot 인코딩으로 크기가 같다\n",
    "\n",
    "# (2) 인코더/ 디코더 입 출력 설정\n",
    "# Seq2Seq은 '인코더 입력'과 '디코더 입력'의 형식이 같다 : [batch size, time steps, input size]\n",
    "enc_input = tf.placeholder(tf.float32, [None, None, n_input])\n",
    "dec_input = tf.placeholder(tf.float32, [None, None, n_input])\n",
    "targets = tf.placeholder(tf.int64, [None, None])  # [batch size, time steps]"
   ]
  },
  {
   "cell_type": "code",
   "execution_count": 15,
   "metadata": {},
   "outputs": [],
   "source": [
    "# (3) 인코더/ 디코더 셀 설정\n",
    "# 1) tf.variable_scope() : 인코더 셀을 정의한다\n",
    "with tf.variable_scope('encode'):\n",
    "    enc_cell = tf.nn.rnn_cell.BasicRNNCell(n_hidden)\n",
    "    enc_cell = tf.nn.rnn_cell.DropoutWrapper(enc_cell, output_keep_prob = 0.5) \n",
    "    outputs, enc_states = tf.nn.dynamic_rnn(enc_cell, enc_input,dtype=tf.float32)"
   ]
  },
  {
   "cell_type": "code",
   "execution_count": 16,
   "metadata": {},
   "outputs": [],
   "source": [
    "# 2) 디코더 셀을 정의한다\n",
    "# '인코더 셀'의 '최종 상태값'을, '디코더 셀'의 '초기 상태값'과 연결한다\n",
    "with tf.variable_scope('decode'):\n",
    "    dec_cell = tf.nn.rnn_cell.BasicRNNCell(n_hidden)\n",
    "    dec_cell = tf.nn.rnn_cell.DropoutWrapper(dec_cell, output_keep_prob=0.5)\n",
    "    outputs, dec_states = tf.nn.dynamic_rnn(dec_cell, dec_input, \n",
    "                                            initial_state = enc_states, \n",
    "                                            dtype = tf.float32)"
   ]
  },
  {
   "cell_type": "code",
   "execution_count": 17,
   "metadata": {},
   "outputs": [],
   "source": [
    "# (4) 설정한 매개변수와 Cell을 연결하여 Seq2Seq 모델을 생성한다\n",
    "model = tf.layers.dense(outputs, n_class, activation=None)\n",
    "cost  = tf.reduce_mean(tf.nn.sparse_softmax_cross_entropy_with_logits(\n",
    "    logits = model, labels = targets))\n",
    "optimizer = tf.train.AdamOptimizer(learning_rate).minimize(cost)"
   ]
  },
  {
   "cell_type": "markdown",
   "metadata": {},
   "source": [
    "<br>\n",
    "### **02 모델의 학습**\n",
    "Train by the TensorFlow"
   ]
  },
  {
   "cell_type": "code",
   "execution_count": 18,
   "metadata": {},
   "outputs": [
    {
     "name": "stdout",
     "output_type": "stream",
     "text": [
      "Epoch:    1  cost = 3.743667\n",
      "Epoch:   10  cost = 0.093628\n",
      "Epoch:   19  cost = 0.019045\n",
      "Epoch:   28  cost = 0.005433\n",
      "Epoch:   37  cost = 0.001452\n",
      "Epoch:   46  cost = 0.001286\n",
      "Epoch:   55  cost = 0.001034\n",
      "Epoch:   64  cost = 0.000333\n",
      "Epoch:   73  cost = 0.000132\n",
      "Epoch:   82  cost = 0.000345\n",
      "Epoch:   91  cost = 0.000243\n",
      "Epoch:  100  cost = 0.000602\n",
      "최적화 완료!\n"
     ]
    }
   ],
   "source": [
    "# 3. 모델의 학습\n",
    "sess = tf.Session()\n",
    "sess.run(tf.global_variables_initializer())\n",
    "input_batch, output_batch, target_batch = make_batch(seq_data)\n",
    "for epoch in range(total_epoch):\n",
    "    _, loss = sess.run([optimizer, cost],\n",
    "                       feed_dict={enc_input: input_batch,\n",
    "                                  dec_input: output_batch,\n",
    "                                  targets: target_batch})\n",
    "    if epoch % 9 == 0 :\n",
    "        print('Epoch: {:4d}  cost = {:.6f}'.format((epoch + 1),loss))\n",
    "print('최적화 완료!')"
   ]
  },
  {
   "cell_type": "markdown",
   "metadata": {},
   "source": [
    "<br>\n",
    "### **03 학습 모델의 활용**\n",
    "Train by the TensorFlow"
   ]
  },
  {
   "cell_type": "code",
   "execution_count": 19,
   "metadata": {
    "scrolled": true
   },
   "outputs": [
    {
     "name": "stdout",
     "output_type": "stream",
     "text": [
      "\n",
      "=== 번역 테스트 ===\n",
      "word -> 단어\n",
      "wodr -> 단무\n",
      "love -> 사랑\n",
      "loev -> 사랑\n",
      "abcd -> 소녀\n"
     ]
    }
   ],
   "source": [
    "# (1) 예측시 사전에 없는 단어는 'P'로 채운다. ex) ['word', 'PPPP']\n",
    "# (2) [batch size, time step, input] 를 예측결과로 출력 : 2번째 차원값 input차원의 argmax로 예측한다\n",
    "def translate(word):\n",
    "    seq_data = [word, 'P' * len(word)]\n",
    "    input_batch, output_batch, target_batch = make_batch([seq_data])\n",
    "    prediction = tf.argmax(model, 2)\n",
    "    result = sess.run(prediction,\n",
    "                      feed_dict={enc_input: input_batch,\n",
    "                                 dec_input: output_batch,\n",
    "                                 targets: target_batch})\n",
    "    decoded = [char_arr[i] for i in result[0]]  # 결과 값 '인덱스'에 해당글자를 사용하여 배열을 만든다.\n",
    "    end = decoded.index('E')                    # 출력끝 을 의미하는 'E' 이후의 글자들은 제거한다\n",
    "    translated = ''.join(decoded[:end])\n",
    "    return translated\n",
    "\n",
    "print('\\n=== 번역 테스트 ===')\n",
    "print('word ->', translate('word'))\n",
    "print('wodr ->', translate('wodr'))\n",
    "print('love ->', translate('love'))\n",
    "print('loev ->', translate('loev'))\n",
    "print('abcd ->', translate('abcd'))"
   ]
  },
  {
   "cell_type": "code",
   "execution_count": null,
   "metadata": {},
   "outputs": [],
   "source": []
  },
  {
   "cell_type": "code",
   "execution_count": null,
   "metadata": {},
   "outputs": [],
   "source": []
  },
  {
   "cell_type": "markdown",
   "metadata": {},
   "source": [
    "### 02.ml_for_nltk\n",
    "word2Vec\n",
    "1. Gensim\n",
    "1. Tensorflow\n",
    "1. tSNE"
   ]
  },
  {
   "cell_type": "markdown",
   "metadata": {},
   "source": [
    "RNN\n",
    "1. 삼행시 봇"
   ]
  },
  {
   "cell_type": "markdown",
   "metadata": {},
   "source": [
    "LSTM 문장생성\n",
    "1. HMM 은 유사도만 측정 가능하고, 그 확률이 낮아서 문장생성은 어렵다\n",
    "1. LSTM도 낮은 확률에 근거하여 Text를 생성하지만, 반복 학습을 통해서 오차를 줄이는 과정을 통해 정밀성을 높일 수 있다"
   ]
  },
  {
   "cell_type": "markdown",
   "metadata": {},
   "source": [
    "seq2seq 챗봇\n",
    "1. Text 생성\n",
    "1. 어린왕자 Text를 대통령 연설문으로 바꿔서 챗봇 구현하기"
   ]
  },
  {
   "cell_type": "markdown",
   "metadata": {},
   "source": [
    "Attention\n",
    "1. Image Detection"
   ]
  },
  {
   "cell_type": "code",
   "execution_count": null,
   "metadata": {},
   "outputs": [],
   "source": []
  }
 ],
 "metadata": {
  "kernelspec": {
   "display_name": "Python 3",
   "language": "python",
   "name": "python3"
  },
  "language_info": {
   "codemirror_mode": {
    "name": "ipython",
    "version": 3
   },
   "file_extension": ".py",
   "mimetype": "text/x-python",
   "name": "python",
   "nbconvert_exporter": "python",
   "pygments_lexer": "ipython3",
   "version": "3.6.3"
  }
 },
 "nbformat": 4,
 "nbformat_minor": 2
}
