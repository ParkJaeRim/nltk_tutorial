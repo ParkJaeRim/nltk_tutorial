{
 "cells": [
  {
   "cell_type": "markdown",
   "metadata": {},
   "source": [
    "<br></br>\n",
    "# **1 의미론 분석**\n",
    "\n",
    "<br></br>\n",
    "## **1 Parsing**\n",
    "문법적 구조를 활용한 분석"
   ]
  },
  {
   "cell_type": "code",
   "execution_count": 1,
   "metadata": {},
   "outputs": [
    {
     "name": "stdout",
     "output_type": "stream",
     "text": [
      "[('민병삼', 'Noun'), ('대령', 'Noun'), ('의', 'Josa'), ('항', 'Noun'), ('명', 'Suffix'), ('행위', 'Noun'), ('로', 'Josa'), ('초치', 'Noun'), ('하다', 'Verb')]\n",
      "CPU times: user 6.96 s, sys: 286 ms, total: 7.25 s\n",
      "Wall time: 2.81 s\n"
     ]
    }
   ],
   "source": [
    "%%time\n",
    "text = '민병삼 대령의 항명행위로 초치했다'\n",
    "\n",
    "from konlpy.tag import Okt\n",
    "twitter = Okt()\n",
    "words = twitter.pos(text, stem=True)\n",
    "print(words)"
   ]
  },
  {
   "cell_type": "code",
   "execution_count": 2,
   "metadata": {},
   "outputs": [
    {
     "data": {
      "text/plain": [
       "<chunk.RegexpParser with 3 stages>"
      ]
     },
     "execution_count": 2,
     "metadata": {},
     "output_type": "execute_result"
    }
   ],
   "source": [
    "from nltk import RegexpParser\n",
    "\n",
    "grammar = \"\"\"\n",
    "NP: {<N.*>*<Suffix>?}   # 명사구를 정의한다\n",
    "VP: {<V.*>*}            # 동사구를 정의한다\n",
    "AP: {<A.*>*}            # 형용사구를 정의한다 \"\"\"\n",
    "parser = RegexpParser(grammar)\n",
    "parser"
   ]
  },
  {
   "cell_type": "code",
   "execution_count": 3,
   "metadata": {},
   "outputs": [
    {
     "data": {
      "image/png": "[encoded data removed]",
      "text/plain": [
       "Tree('S', [Tree('NP', [('민병삼', 'Noun'), ('대령', 'Noun')]), ('의', 'Josa'), Tree('NP', [('항', 'Noun'), ('명', 'Suffix')]), Tree('NP', [('행위', 'Noun')]), ('로', 'Josa'), Tree('NP', [('초치', 'Noun')]), Tree('VP', [('하다', 'Verb')])])"
      ]
     },
     "execution_count": 3,
     "metadata": {},
     "output_type": "execute_result"
    }
   ],
   "source": [
    "chunks = parser.parse(words)\n",
    "chunks"
   ]
  },
  {
   "cell_type": "code",
   "execution_count": 4,
   "metadata": {},
   "outputs": [
    {
     "data": {
      "text/plain": [
       "[[('민병삼', 'Noun'), ('대령', 'Noun')],\n",
       " [('항', 'Noun'), ('명', 'Suffix')],\n",
       " [('행위', 'Noun')],\n",
       " [('초치', 'Noun')],\n",
       " [('하다', 'Verb')]]"
      ]
     },
     "execution_count": 4,
     "metadata": {},
     "output_type": "execute_result"
    }
   ],
   "source": [
    "text_tree = [list(txt)    for txt in chunks.subtrees()]\n",
    "text_tree[1:]"
   ]
  },
  {
   "cell_type": "markdown",
   "metadata": {},
   "source": [
    "<br></br>\n",
    "## **2 촘스키 CGF 문법규칙 활용**\n",
    "Penn Treebank Corpus"
   ]
  },
  {
   "cell_type": "code",
   "execution_count": 5,
   "metadata": {},
   "outputs": [
    {
     "name": "stdout",
     "output_type": "stream",
     "text": [
      "['McDermott', 'International', 'Inc.', 'said', '0', ...]\n",
      "[('McDermott', 'NNP'), ('International', 'NNP'), ...]\n",
      "(S\n",
      "  (NP-SBJ\n",
      "    (NP (NNP Bailey) (NNP Controls))\n",
      "    (, ,)\n",
      "    (VP\n",
      "      (VBN based)\n",
      "      (NP (-NONE- *))\n",
      "      (PP-LOC-CLR\n",
      "        (IN in)\n",
      "        (NP (NP (NNP Wickliffe)) (, ,) (NP (NNP Ohio)))))\n",
      "    (, ,))\n",
      "  (VP\n",
      "    (VBZ makes)\n",
      "    (NP\n",
      "      (JJ computerized)\n",
      "      (JJ industrial)\n",
      "      (NNS controls)\n",
      "      (NNS systems)))\n",
      "  (. .))\n"
     ]
    }
   ],
   "source": [
    "from nltk.corpus import treebank\n",
    "print(treebank.words('wsj_0007.mrg'))        \n",
    "print(treebank.tagged_words('wsj_0007.mrg')) \n",
    "print(treebank.parsed_sents('wsj_0007.mrg')[2])"
   ]
  },
  {
   "cell_type": "code",
   "execution_count": 6,
   "metadata": {},
   "outputs": [
    {
     "name": "stdout",
     "output_type": "stream",
     "text": [
      "Grammar with 23 productions (start state = S)\n",
      "    S -> NP VP [1.0]\n",
      "    VP -> V NP [0.59]\n",
      "    VP -> V [0.4]\n",
      "    VP -> VP PP [0.01]\n",
      "    NP -> Det N [0.41]\n",
      "    NP -> Name [0.28]\n",
      "    NP -> NP PP [0.31]\n",
      "    PP -> P NP [1.0]\n",
      "    V -> 'saw' [0.21]\n",
      "    V -> 'ate' [0.51]\n",
      "    V -> 'ran' [0.28]\n",
      "    N -> 'boy' [0.11]\n",
      "    N -> 'cookie' [0.12]\n",
      "    N -> 'table' [0.13]\n",
      "    N -> 'telescope' [0.14]\n",
      "    N -> 'hill' [0.5]\n",
      "    Name -> 'Jack' [0.52]\n",
      "    Name -> 'Bob' [0.48]\n",
      "    P -> 'with' [0.61]\n",
      "    P -> 'under' [0.39]\n",
      "    Det -> 'the' [0.41]\n",
      "    Det -> 'a' [0.31]\n",
      "    Det -> 'my' [0.28]\n"
     ]
    }
   ],
   "source": [
    "from nltk.grammar import toy_pcfg2\n",
    "grammar = toy_pcfg2\n",
    "print(grammar)"
   ]
  },
  {
   "cell_type": "code",
   "execution_count": 7,
   "metadata": {},
   "outputs": [
    {
     "name": "stdout",
     "output_type": "stream",
     "text": [
      "Grammar with 23 productions (start state = S)\n",
      "    S -> NP VP [1.0]\n",
      "    VP -> V NP [0.59]\n",
      "    VP -> V [0.4]\n",
      "    VP -> VP PP [0.01]\n",
      "    NP -> Det N [0.41]\n",
      "    NP -> Name [0.28]\n",
      "    NP -> NP PP [0.31]\n",
      "    PP -> P NP [1.0]\n",
      "    V -> 'saw' [0.21]\n",
      "    V -> 'ate' [0.51]\n",
      "    V -> 'ran' [0.28]\n",
      "    N -> 'boy' [0.11]\n",
      "    N -> 'cookie' [0.12]\n",
      "    N -> 'table' [0.13]\n",
      "    N -> 'telescope' [0.14]\n",
      "    N -> 'hill' [0.5]\n",
      "    Name -> 'Jack' [0.52]\n",
      "    Name -> 'Bob' [0.48]\n",
      "    P -> 'with' [0.61]\n",
      "    P -> 'under' [0.39]\n",
      "    Det -> 'the' [0.41]\n",
      "    Det -> 'a' [0.31]\n",
      "    Det -> 'my' [0.28]\n"
     ]
    }
   ],
   "source": [
    "from nltk.grammar import toy_pcfg2\n",
    "tokens = \"jack seat on table\".split()\n",
    "grammar = toy_pcfg2\n",
    "print(grammar)"
   ]
  },
  {
   "cell_type": "markdown",
   "metadata": {},
   "source": [
    "<br></br>\n",
    "## **3 Earley 차트 파싱 알고리즘**\n",
    "1970년 발표한 알고리즘으로 Top-Down 파싱과 유사하고 좌측방향 재귀처리를 통해서 문장을 분석한다"
   ]
  },
  {
   "cell_type": "code",
   "execution_count": 8,
   "metadata": {},
   "outputs": [
    {
     "name": "stdout",
     "output_type": "stream",
     "text": [
      "\n",
      "Grammar with 18 productions (start state = S[])\n",
      "    S[] -> NP[] VP[]\n",
      "    PP[] -> Prep[] NP[]\n",
      "    NP[] -> NP[] PP[]\n",
      "    VP[] -> VP[] PP[]\n",
      "    VP[] -> Verb[] NP[]\n",
      "    VP[] -> Verb[]\n",
      "    NP[] -> Det[pl=?x] Noun[pl=?x]\n",
      "    NP[] -> 'John'\n",
      "    NP[] -> 'I'\n",
      "    Det[] -> 'the'\n",
      "    Det[] -> 'my'\n",
      "    Det[-pl] -> 'a'\n",
      "    Noun[-pl] -> 'dog'\n",
      "    Noun[-pl] -> 'cookie'\n",
      "    Verb[] -> 'ate'\n",
      "    Verb[] -> 'saw'\n",
      "    Prep[] -> 'with'\n",
      "    Prep[] -> 'under'\n",
      "\n",
      "* FeatureChartParser\n",
      "Sentence: I saw a dog\n",
      "|. I .saw. a .dog.|\n",
      "|[---]   .   .   .| [0:1] 'I'\n",
      "|.   [---]   .   .| [1:2] 'saw'\n",
      "|.   .   [---]   .| [2:3] 'a'\n",
      "|.   .   .   [---]| [3:4] 'dog'\n",
      "|[---]   .   .   .| [0:1] NP[] -> 'I' *\n",
      "|[--->   .   .   .| [0:1] S[] -> NP[] * VP[] {}\n",
      "|[--->   .   .   .| [0:1] NP[] -> NP[] * PP[] {}\n",
      "|.   [---]   .   .| [1:2] Verb[] -> 'saw' *\n",
      "|.   [--->   .   .| [1:2] VP[] -> Verb[] * NP[] {}\n",
      "|.   [---]   .   .| [1:2] VP[] -> Verb[] *\n",
      "|.   [--->   .   .| [1:2] VP[] -> VP[] * PP[] {}\n",
      "|[-------]   .   .| [0:2] S[] -> NP[] VP[] *\n",
      "|.   .   [---]   .| [2:3] Det[-pl] -> 'a' *\n",
      "|.   .   [--->   .| [2:3] NP[] -> Det[pl=?x] * Noun[pl=?x] {?x: False}\n",
      "|.   .   .   [---]| [3:4] Noun[-pl] -> 'dog' *\n",
      "|.   .   [-------]| [2:4] NP[] -> Det[-pl] Noun[-pl] *\n",
      "|.   .   [------->| [2:4] S[] -> NP[] * VP[] {}\n",
      "|.   .   [------->| [2:4] NP[] -> NP[] * PP[] {}\n",
      "|.   [-----------]| [1:4] VP[] -> Verb[] NP[] *\n",
      "|.   [----------->| [1:4] VP[] -> VP[] * PP[] {}\n",
      "|[===============]| [0:4] S[] -> NP[] VP[] *\n",
      "(S[]\n",
      "  (NP[] I)\n",
      "  (VP[] (Verb[] saw) (NP[] (Det[-pl] a) (Noun[-pl] dog))))\n"
     ]
    }
   ],
   "source": [
    "import nltk\n",
    "nltk.parse.featurechart.demo( print_times = False, print_grammar = True, \n",
    "                             parser = nltk.parse.featurechart.FeatureChartParser, sent = 'I saw a dog' )"
   ]
  },
  {
   "cell_type": "markdown",
   "metadata": {},
   "source": [
    "<br></br>\n",
    "# **2 나이브베이즈 활용**\n",
    "\n",
    "<br></br>\n",
    "## **1 NLKT의 영화리뷰 활용**\n",
    "nltk"
   ]
  },
  {
   "cell_type": "code",
   "execution_count": 9,
   "metadata": {},
   "outputs": [
    {
     "name": "stdout",
     "output_type": "stream",
     "text": [
      "Category : ['neg', 'pos']\n",
      "  Length : 1000\n",
      "\n",
      "pos_file_list : ['neg/cv000_29416.txt', 'neg/cv001_19502.txt', 'neg/cv002_17424.txt', 'neg/cv003_12683.txt', 'neg/cv004_12641.txt'] \n",
      "neg_file_list : ['pos/cv000_29590.txt', 'pos/cv001_18431.txt', 'pos/cv002_15918.txt', 'pos/cv003_11664.txt', 'pos/cv004_11636.txt']\n"
     ]
    }
   ],
   "source": [
    "from nltk.corpus import movie_reviews\n",
    "\n",
    "print('Category : {}\\n  Length : {}'.format(\n",
    "    movie_reviews.categories(),\n",
    "    len(movie_reviews.fileids(movie_reviews.categories()[1])) ))\n",
    "\n",
    "print('\\npos_file_list : {} \\nneg_file_list : {}'.format(\n",
    "    movie_reviews.fileids(movie_reviews.categories()[0])[:5],\n",
    "    movie_reviews.fileids(movie_reviews.categories()[1])[:5] ))"
   ]
  },
  {
   "cell_type": "code",
   "execution_count": 10,
   "metadata": {},
   "outputs": [],
   "source": [
    "# ! cat /home/markbaum/nltk_data/corpora/movie_reviews/neg/cv435_24355.txt\n",
    "example = \"\"\"a couple of criminals ( mario van peebles and loretta devine ) move into a rich family's house in \n",
    "hopes of conning them out of their jewels . however... \"\"\""
   ]
  },
  {
   "cell_type": "code",
   "execution_count": 11,
   "metadata": {},
   "outputs": [
    {
     "data": {
      "text/plain": [
       "FreqDist({',': 77717, 'the': 76529, '.': 65876, 'a': 38106, 'and': 35576, 'of': 34123, 'to': 31937, \"'\": 30585, 'is': 25195, 'in': 21822, ...})"
      ]
     },
     "execution_count": 11,
     "metadata": {},
     "output_type": "execute_result"
    }
   ],
   "source": [
    "import nltk, random\n",
    "docs = [(list(movie_reviews.words(fid)), cat) \n",
    "        for cat in movie_reviews.categories()   # ['neg', 'pos']\n",
    "        for fid in movie_reviews.fileids(cat)]  # 'neg/cv000_29416.txt', ....\n",
    "\n",
    "random.shuffle(docs)\n",
    "all_tokens     = nltk.FreqDist(x.lower()    for  x  in  movie_reviews.words())\n",
    "token_features = list(all_tokens.keys())[:2000]\n",
    "all_tokens"
   ]
  },
  {
   "cell_type": "code",
   "execution_count": 12,
   "metadata": {},
   "outputs": [],
   "source": [
    "def doc_features(docs):\n",
    "    doc_words = set(docs)      \n",
    "    features  = {'word( %s )'%word : (word in doc_words) \n",
    "                 for word in token_features }\n",
    "    return features"
   ]
  },
  {
   "cell_type": "code",
   "execution_count": 13,
   "metadata": {},
   "outputs": [
    {
     "name": "stdout",
     "output_type": "stream",
     "text": [
      "Accuracy : 0.77\n",
      "Most Informative Features\n",
      "   word( unimaginative ) = True              neg : pos    =      7.7 : 1.0\n",
      "      word( schumacher ) = True              neg : pos    =      7.4 : 1.0\n",
      "          word( suvari ) = True              neg : pos    =      7.0 : 1.0\n",
      "          word( shoddy ) = True              neg : pos    =      7.0 : 1.0\n",
      "       word( atrocious ) = True              neg : pos    =      7.0 : 1.0\n",
      "            word( mena ) = True              neg : pos    =      7.0 : 1.0\n",
      "         word( singers ) = True              pos : neg    =      6.3 : 1.0\n",
      "          word( turkey ) = True              neg : pos    =      6.1 : 1.0\n",
      "          word( justin ) = True              neg : pos    =      5.8 : 1.0\n",
      "          word( canyon ) = True              neg : pos    =      5.7 : 1.0\n",
      "CPU times: user 5.68 s, sys: 108 ms, total: 5.79 s\n",
      "Wall time: 5.78 s\n"
     ]
    }
   ],
   "source": [
    "%%time\n",
    "feature_sets = [(doc_features(d), c) for (d,c) in docs]\n",
    "train_sets, test_sets = feature_sets[100:], feature_sets[:100]\n",
    "\n",
    "classifiers = nltk.NaiveBayesClassifier.train(train_sets)\n",
    "print('Accuracy :', nltk.classify.accuracy(classifiers, test_sets))\n",
    "classifiers.show_most_informative_features() "
   ]
  },
  {
   "cell_type": "markdown",
   "metadata": {},
   "source": [
    "<br></br>\n",
    "# **3 나이브베이즈 활용 2**\n",
    "네이버 영화리뷰 데이터 활용\n",
    "1. 0 : 부정적인 리뷰\n",
    "1. 1 : 긍정적인 리뷰"
   ]
  },
  {
   "cell_type": "markdown",
   "metadata": {},
   "source": [
    "<br></br>\n",
    "## **1 NAVER 영화리뷰 데이터 전처리**\n",
    "https://github.com/e9t/nsmc"
   ]
  },
  {
   "cell_type": "code",
   "execution_count": 14,
   "metadata": {},
   "outputs": [
    {
     "name": "stdout",
     "output_type": "stream",
     "text": [
      "id\tdocument\tlabel\n",
      "9976970\t아 더빙.. 진짜 짜증나네요 목소리\t0\n",
      "3819312\t흠...포스터보고 초딩영화줄....오버연기조차 가볍지 않구나\t1\n",
      "cat: 쓰기 오류: 파이프가 깨어짐\n"
     ]
    }
   ],
   "source": [
    "! cat ./data/ratings_train.txt | head -n 3"
   ]
  },
  {
   "cell_type": "code",
   "execution_count": 15,
   "metadata": {},
   "outputs": [
    {
     "name": "stdout",
     "output_type": "stream",
     "text": [
      "Train_data : 3000\n",
      "sample     : [['9250584', 'ㅠㅠ개잼..음악도좋고내용도좋고 29응원함ㅠㅠ', '1'], ['9486883', '이종필 감독 김남길 제작 굿', '1'], ['7991008', '어떤 의미로 정말 재밌는 영화 ㅋㅋㅋㅋ', '0']]\n",
      "Test_data  : 1000\n",
      "sample     : [['9681283', '남우주연상 남우조연상 수상작이라서 오래전부터 정말 기대하고 봤는데 기대를 져버리지 않은 연기였다..연기 100퍼센트 이상이 채워져있다 이 영화를 위해 21키로나감량했다더니 론 그자체였다 대단한 배우 둘을 얻어간 보석같은 영화', '1'], ['4890291', '두 사람이 연기 호흡이 괜찮았다', '1'], ['10248234', '뀰잼이다뀰잼이라구여', '1']]\n"
     ]
    }
   ],
   "source": [
    "def read_data(filename):\n",
    "    with open(filename, 'r') as f:\n",
    "        data = [line.split('\\t') for line in f.read().splitlines()]\n",
    "        data = data[1:]   # header 제외\n",
    "        \n",
    "    from random import randint\n",
    "    random_data = [data[randint(1, len(data))]  for no in range(int(len(data)/50)) ]\n",
    "    return random_data\n",
    "\n",
    "train_data = read_data('./data/ratings_train.txt')\n",
    "test_data  = read_data('./data/ratings_test.txt')\n",
    "print('Train_data : {}\\nsample     : {}'.format(len(train_data), train_data[:3]))\n",
    "print('Test_data  : {}\\nsample     : {}'.format(len(test_data), test_data[:3]))"
   ]
  },
  {
   "cell_type": "code",
   "execution_count": 16,
   "metadata": {},
   "outputs": [
    {
     "name": "stdout",
     "output_type": "stream",
     "text": [
      "[(['ㅠㅠ/KoreanParticle',\n",
      "   '개잼/Noun',\n",
      "   '../Punctuation',\n",
      "   '음악/Noun',\n",
      "   '도/Josa',\n",
      "   '좋다/Adjective',\n",
      "   '내/Determiner',\n",
      "   '용도/Noun',\n",
      "   '좋다/Adjective',\n",
      "   '29/Number',\n",
      "   '응원/Noun',\n",
      "   '함/Noun',\n",
      "   'ㅠㅠ/KoreanParticle'],\n",
      "  '1'),\n",
      " (['이종필/Noun', '감독/Noun', '김남길/Noun', '제작/Noun', '굿/Noun'], '1')]\n",
      "CPU times: user 18.1 s, sys: 143 ms, total: 18.2 s\n",
      "Wall time: 11.5 s\n"
     ]
    }
   ],
   "source": [
    "%%time\n",
    "from konlpy.tag import Okt\n",
    "pos_tagger = Okt()\n",
    "\n",
    "def tokenize(doc):\n",
    "    result = ['/'.join(t) for t in pos_tagger.pos(doc, norm=True, stem=True)]\n",
    "    return result \n",
    "\n",
    "train_docs = [(tokenize(row[1]), row[2])    for row in train_data]\n",
    "test_docs  = [(tokenize(row[1]), row[2])    for row in test_data]\n",
    "\n",
    "from pprint import pprint\n",
    "pprint(train_docs[:2])"
   ]
  },
  {
   "cell_type": "code",
   "execution_count": 17,
   "metadata": {},
   "outputs": [
    {
     "name": "stdout",
     "output_type": "stream",
     "text": [
      "43589\n"
     ]
    }
   ],
   "source": [
    "tokens = [t   for d in train_docs \n",
    "              for t in d[0]]\n",
    "print(len(tokens))"
   ]
  },
  {
   "cell_type": "markdown",
   "metadata": {},
   "source": [
    "<br></br>\n",
    "## **2 nltk 를 활용하여 연산모델 만들기**\n",
    "https://github.com/e9t/nsmc"
   ]
  },
  {
   "cell_type": "code",
   "execution_count": 18,
   "metadata": {},
   "outputs": [
    {
     "name": "stdout",
     "output_type": "stream",
     "text": [
      "number of Token : 43589 \n",
      "unique Token    : 6727\n",
      "\n",
      "[('./Punctuation', 1310),\n",
      " ('영화/Noun', 1061),\n",
      " ('하다/Verb', 812),\n",
      " ('보다/Verb', 772),\n",
      " ('이/Josa', 759),\n",
      " ('의/Josa', 624),\n",
      " ('../Punctuation', 615),\n",
      " ('가/Josa', 558),\n",
      " ('에/Josa', 543),\n",
      " ('을/Josa', 491)]\n"
     ]
    }
   ],
   "source": [
    "import nltk\n",
    "text = nltk.Text(tokens, name='NMSC')\n",
    "print(\"number of Token : {} \\nunique Token    : {}\\n\".format(\n",
    "    len(text.tokens), len(set(text.tokens))))\n",
    "pprint(text.vocab().most_common(10))    "
   ]
  },
  {
   "cell_type": "code",
   "execution_count": 19,
   "metadata": {},
   "outputs": [
    {
     "data": {
      "image/png": "[encoded data removed]",
      "text/plain": [
       "<Figure size 1152x360 with 1 Axes>"
      ]
     },
     "metadata": {},
     "output_type": "display_data"
    }
   ],
   "source": [
    "%matplotlib inline\n",
    "from matplotlib import font_manager, rc\n",
    "font_fname = './data/D2Coding.ttf'     \n",
    "font_name = font_manager.FontProperties(fname=font_fname).get_name()\n",
    "rc('font', family=font_name)\n",
    "\n",
    "import matplotlib.pyplot as plt\n",
    "plt.figure(figsize=(16,5))\n",
    "text.plot(50) "
   ]
  },
  {
   "cell_type": "markdown",
   "metadata": {},
   "source": [
    "<br></br>\n",
    "## **3 모델의 정확도/ 일반화를 높이는 추가작업**\n",
    "우도 상위 2000개 데이터를 추출"
   ]
  },
  {
   "cell_type": "code",
   "execution_count": 20,
   "metadata": {},
   "outputs": [
    {
     "name": "stdout",
     "output_type": "stream",
     "text": [
      "CPU times: user 6.88 s, sys: 597 ms, total: 7.48 s\n",
      "Wall time: 7.47 s\n"
     ]
    }
   ],
   "source": [
    "%%time\n",
    "selected_words = [f[0] for f in text.vocab().most_common(2000)]\n",
    "def term_exists(doc):\n",
    "    return {'exists({})'.format(word): (word in set(doc)) for word in selected_words}\n",
    "\n",
    "train_docs = train_docs[:10000]\n",
    "train_xy   = [(term_exists(d), c) for d, c in train_docs]\n",
    "test_xy    = [(term_exists(d), c) for d, c in test_docs]"
   ]
  },
  {
   "cell_type": "code",
   "execution_count": 21,
   "metadata": {},
   "outputs": [
    {
     "name": "stdout",
     "output_type": "stream",
     "text": [
      "CPU times: user 6.61 s, sys: 3.88 ms, total: 6.62 s\n",
      "Wall time: 6.61 s\n"
     ]
    }
   ],
   "source": [
    "%%time\n",
    "classifiers = nltk.NaiveBayesClassifier.train(train_xy)"
   ]
  },
  {
   "cell_type": "markdown",
   "metadata": {},
   "source": [
    "<br></br>\n",
    "## **4 생성한 모델을 평가**\n",
    "Accuracy"
   ]
  },
  {
   "cell_type": "code",
   "execution_count": 22,
   "metadata": {},
   "outputs": [
    {
     "name": "stdout",
     "output_type": "stream",
     "text": [
      "네이버 긍부정 모델의 Accuracy : 0.794\n",
      "Most Informative Features\n",
      "   exists(멋지다/Adjective) = True                1 : 0      =     21.8 : 1.0\n",
      "        exists(쓰레기/Noun) = True                0 : 1      =     19.3 : 1.0\n",
      "   exists(아깝다/Adjective) = True                0 : 1      =     15.3 : 1.0\n",
      "       exists(특히/Adverb) = True                1 : 0      =     14.4 : 1.0\n",
      "          exists(냐/Josa) = True                0 : 1      =     14.2 : 1.0\n",
      "  exists(^^/Punctuation) = True                1 : 0      =     12.3 : 1.0\n",
      "         exists(막장/Noun) = True                0 : 1      =     12.3 : 1.0\n",
      "  exists(필요없다/Adjective) = True                1 : 0      =     11.7 : 1.0\n",
      "exists(ㅎㅎ/KoreanParticle) = True                1 : 0      =     11.5 : 1.0\n",
      "          exists(돈/Noun) = True                0 : 1      =     11.2 : 1.0\n",
      "CPU times: user 5.22 s, sys: 0 ns, total: 5.22 s\n",
      "Wall time: 5.21 s\n"
     ]
    }
   ],
   "source": [
    "%%time\n",
    "print('네이버 긍부정 모델의 Accuracy : {}'.format(\n",
    "    nltk.classify.accuracy(classifiers, test_xy)))\n",
    "classifiers.show_most_informative_features(10)"
   ]
  },
  {
   "cell_type": "markdown",
   "metadata": {},
   "source": [
    "<br></br>\n",
    "## **5 모델의 활용**\n",
    "Accuracy\n",
    "1. 0 : 부정리뷰\n",
    "1. 1 : 긍정리뷰"
   ]
  },
  {
   "cell_type": "code",
   "execution_count": 23,
   "metadata": {},
   "outputs": [],
   "source": [
    "review = \"\"\"나는 정말 재미있었음\n",
    "정말 재미있게 봤고 액션신도 멋짐\n",
    "왜 재미없는지는 모르겠다\"\"\""
   ]
  },
  {
   "cell_type": "code",
   "execution_count": 24,
   "metadata": {},
   "outputs": [
    {
     "data": {
      "text/plain": [
       "'1'"
      ]
     },
     "execution_count": 24,
     "metadata": {},
     "output_type": "execute_result"
    }
   ],
   "source": [
    "review = tokenize(review)    # 문법 Tag 추가한 객체로 변환\n",
    "review = term_exists(review) # 기준 용어들이 포함여부 판단\n",
    "classifiers.classify(review)  # 분류모델로 평가"
   ]
  }
 ],
 "metadata": {
  "kernelspec": {
   "display_name": "Python 3",
   "language": "python",
   "name": "python3"
  },
  "language_info": {
   "codemirror_mode": {
    "name": "ipython",
    "version": 3
   },
   "file_extension": ".py",
   "mimetype": "text/x-python",
   "name": "python",
   "nbconvert_exporter": "python",
   "pygments_lexer": "ipython3",
   "version": "3.6.3"
  }
 },
 "nbformat": 4,
 "nbformat_minor": 2
}
