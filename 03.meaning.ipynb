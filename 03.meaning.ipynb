{
 "cells": [
  {
   "cell_type": "markdown",
   "metadata": {},
   "source": [
    "<br>\n",
    "# **1 의미론 분석**\n",
    "\n",
    "<br>\n",
    "## **1 Parsing**\n",
    "문법적 구조를 활용한 분석"
   ]
  },
  {
   "cell_type": "code",
   "execution_count": 1,
   "metadata": {},
   "outputs": [
    {
     "name": "stdout",
     "output_type": "stream",
     "text": [
      "negation       \t-\n",
      "conjunction    \t&\n",
      "disjunction    \t|\n",
      "implication    \t->\n",
      "equivalence    \t<->\n"
     ]
    }
   ],
   "source": [
    "import nltk\n",
    "nltk.boolean_ops()"
   ]
  },
  {
   "cell_type": "code",
   "execution_count": 2,
   "metadata": {},
   "outputs": [
    {
     "name": "stdout",
     "output_type": "stream",
     "text": [
      "[('민병삼', 'Noun'), ('대령', 'Noun'), ('의', 'Josa'), ('항', 'Noun'), ('명', 'Suffix'), ('행위', 'Noun'), ('로', 'Josa'), ('초치', 'Noun'), ('하다', 'Verb')]\n",
      "CPU times: user 3.12 s, sys: 92 ms, total: 3.21 s\n",
      "Wall time: 1.25 s\n"
     ]
    }
   ],
   "source": [
    "%%time\n",
    "# 앞부분 Review\n",
    "text = '민병삼 대령의 항명행위로 초치했다'\n",
    "\n",
    "from konlpy.tag import Twitter\n",
    "twitter = Twitter()\n",
    "words = twitter.pos(text, stem=True)\n",
    "print(words)"
   ]
  },
  {
   "cell_type": "code",
   "execution_count": 3,
   "metadata": {},
   "outputs": [
    {
     "data": {
      "image/png": "[encoded data removed]",
      "text/plain": [
       "Tree('S', [Tree('NP', [('민병삼', 'Noun'), ('대령', 'Noun')]), ('의', 'Josa'), Tree('NP', [('항', 'Noun'), ('명', 'Suffix')]), Tree('NP', [('행위', 'Noun')]), ('로', 'Josa'), Tree('NP', [('초치', 'Noun')]), Tree('VP', [('하다', 'Verb')])])"
      ]
     },
     "execution_count": 3,
     "metadata": {},
     "output_type": "execute_result"
    }
   ],
   "source": [
    "%matplotlib inline\n",
    "from nltk import RegexpParser\n",
    "\n",
    "grammar = \"\"\"\n",
    "NP: {<N.*>*<Suffix>?}   # 명사구를 정의한다\n",
    "VP: {<V.*>*}            # 동사구를 정의한다\n",
    "AP: {<A.*>*}            # 형용사구를 정의한다 \"\"\"\n",
    "parser = RegexpParser(grammar)\n",
    "chunks = parser.parse(words)\n",
    "chunks"
   ]
  },
  {
   "cell_type": "markdown",
   "metadata": {},
   "source": [
    "\n",
    "<br>\n",
    "## **2 촘스키 CGF 문법규칙 활용**\n",
    "Penn Treebank Corpus"
   ]
  },
  {
   "cell_type": "code",
   "execution_count": 4,
   "metadata": {},
   "outputs": [
    {
     "name": "stdout",
     "output_type": "stream",
     "text": [
      "['McDermott', 'International', 'Inc.', 'said', '0', ...]\n",
      "[('McDermott', 'NNP'), ('International', 'NNP'), ...]\n",
      "(S\n",
      "  (NP-SBJ\n",
      "    (NP (NNP Bailey) (NNP Controls))\n",
      "    (, ,)\n",
      "    (VP\n",
      "      (VBN based)\n",
      "      (NP (-NONE- *))\n",
      "      (PP-LOC-CLR\n",
      "        (IN in)\n",
      "        (NP (NP (NNP Wickliffe)) (, ,) (NP (NNP Ohio)))))\n",
      "    (, ,))\n",
      "  (VP\n",
      "    (VBZ makes)\n",
      "    (NP\n",
      "      (JJ computerized)\n",
      "      (JJ industrial)\n",
      "      (NNS controls)\n",
      "      (NNS systems)))\n",
      "  (. .))\n"
     ]
    }
   ],
   "source": [
    "from nltk.corpus import treebank\n",
    "print(treebank.words('wsj_0007.mrg'))        \n",
    "print(treebank.tagged_words('wsj_0007.mrg')) \n",
    "print(treebank.parsed_sents('wsj_0007.mrg')[2])"
   ]
  },
  {
   "cell_type": "code",
   "execution_count": 5,
   "metadata": {},
   "outputs": [
    {
     "name": "stdout",
     "output_type": "stream",
     "text": [
      "Grammar with 23 productions (start state = S)\n",
      "    S -> NP VP [1.0]\n",
      "    VP -> V NP [0.59]\n",
      "    VP -> V [0.4]\n",
      "    VP -> VP PP [0.01]\n",
      "    NP -> Det N [0.41]\n",
      "    NP -> Name [0.28]\n",
      "    NP -> NP PP [0.31]\n",
      "    PP -> P NP [1.0]\n",
      "    V -> 'saw' [0.21]\n",
      "    V -> 'ate' [0.51]\n",
      "    V -> 'ran' [0.28]\n",
      "    N -> 'boy' [0.11]\n",
      "    N -> 'cookie' [0.12]\n",
      "    N -> 'table' [0.13]\n",
      "    N -> 'telescope' [0.14]\n",
      "    N -> 'hill' [0.5]\n",
      "    Name -> 'Jack' [0.52]\n",
      "    Name -> 'Bob' [0.48]\n",
      "    P -> 'with' [0.61]\n",
      "    P -> 'under' [0.39]\n",
      "    Det -> 'the' [0.41]\n",
      "    Det -> 'a' [0.31]\n",
      "    Det -> 'my' [0.28]\n"
     ]
    }
   ],
   "source": [
    "from nltk.grammar import toy_pcfg2\n",
    "grammar = toy_pcfg2\n",
    "print(grammar)"
   ]
  },
  {
   "cell_type": "code",
   "execution_count": 6,
   "metadata": {},
   "outputs": [
    {
     "name": "stdout",
     "output_type": "stream",
     "text": [
      "Grammar with 23 productions (start state = S)\n",
      "    S -> NP VP [1.0]\n",
      "    VP -> V NP [0.59]\n",
      "    VP -> V [0.4]\n",
      "    VP -> VP PP [0.01]\n",
      "    NP -> Det N [0.41]\n",
      "    NP -> Name [0.28]\n",
      "    NP -> NP PP [0.31]\n",
      "    PP -> P NP [1.0]\n",
      "    V -> 'saw' [0.21]\n",
      "    V -> 'ate' [0.51]\n",
      "    V -> 'ran' [0.28]\n",
      "    N -> 'boy' [0.11]\n",
      "    N -> 'cookie' [0.12]\n",
      "    N -> 'table' [0.13]\n",
      "    N -> 'telescope' [0.14]\n",
      "    N -> 'hill' [0.5]\n",
      "    Name -> 'Jack' [0.52]\n",
      "    Name -> 'Bob' [0.48]\n",
      "    P -> 'with' [0.61]\n",
      "    P -> 'under' [0.39]\n",
      "    Det -> 'the' [0.41]\n",
      "    Det -> 'a' [0.31]\n",
      "    Det -> 'my' [0.28]\n"
     ]
    }
   ],
   "source": [
    "from nltk.grammar import toy_pcfg2\n",
    "tokens = \"jack seat on table\".split()\n",
    "grammar = toy_pcfg2\n",
    "print(grammar)"
   ]
  },
  {
   "cell_type": "markdown",
   "metadata": {},
   "source": [
    "<br>\n",
    "## **3 Earley 차트 파싱 알고리즘**\n",
    "1970년 발표한 알고리즘으로 Top-Down 파싱과 유사하고 좌측방향 재귀처리를 통해서 문장을 분석한다"
   ]
  },
  {
   "cell_type": "code",
   "execution_count": 7,
   "metadata": {},
   "outputs": [
    {
     "name": "stdout",
     "output_type": "stream",
     "text": [
      "\n",
      "Grammar with 18 productions (start state = S[])\n",
      "    S[] -> NP[] VP[]\n",
      "    PP[] -> Prep[] NP[]\n",
      "    NP[] -> NP[] PP[]\n",
      "    VP[] -> VP[] PP[]\n",
      "    VP[] -> Verb[] NP[]\n",
      "    VP[] -> Verb[]\n",
      "    NP[] -> Det[pl=?x] Noun[pl=?x]\n",
      "    NP[] -> 'John'\n",
      "    NP[] -> 'I'\n",
      "    Det[] -> 'the'\n",
      "    Det[] -> 'my'\n",
      "    Det[-pl] -> 'a'\n",
      "    Noun[-pl] -> 'dog'\n",
      "    Noun[-pl] -> 'cookie'\n",
      "    Verb[] -> 'ate'\n",
      "    Verb[] -> 'saw'\n",
      "    Prep[] -> 'with'\n",
      "    Prep[] -> 'under'\n",
      "\n",
      "* FeatureChartParser\n",
      "Sentence: I saw a dog\n",
      "|. I .saw. a .dog.|\n",
      "|[---]   .   .   .| [0:1] 'I'\n",
      "|.   [---]   .   .| [1:2] 'saw'\n",
      "|.   .   [---]   .| [2:3] 'a'\n",
      "|.   .   .   [---]| [3:4] 'dog'\n",
      "|[---]   .   .   .| [0:1] NP[] -> 'I' *\n",
      "|[--->   .   .   .| [0:1] S[] -> NP[] * VP[] {}\n",
      "|[--->   .   .   .| [0:1] NP[] -> NP[] * PP[] {}\n",
      "|.   [---]   .   .| [1:2] Verb[] -> 'saw' *\n",
      "|.   [--->   .   .| [1:2] VP[] -> Verb[] * NP[] {}\n",
      "|.   [---]   .   .| [1:2] VP[] -> Verb[] *\n",
      "|.   [--->   .   .| [1:2] VP[] -> VP[] * PP[] {}\n",
      "|[-------]   .   .| [0:2] S[] -> NP[] VP[] *\n",
      "|.   .   [---]   .| [2:3] Det[-pl] -> 'a' *\n",
      "|.   .   [--->   .| [2:3] NP[] -> Det[pl=?x] * Noun[pl=?x] {?x: False}\n",
      "|.   .   .   [---]| [3:4] Noun[-pl] -> 'dog' *\n",
      "|.   .   [-------]| [2:4] NP[] -> Det[-pl] Noun[-pl] *\n",
      "|.   .   [------->| [2:4] S[] -> NP[] * VP[] {}\n",
      "|.   .   [------->| [2:4] NP[] -> NP[] * PP[] {}\n",
      "|.   [-----------]| [1:4] VP[] -> Verb[] NP[] *\n",
      "|.   [----------->| [1:4] VP[] -> VP[] * PP[] {}\n",
      "|[===============]| [0:4] S[] -> NP[] VP[] *\n",
      "(S[]\n",
      "  (NP[] I)\n",
      "  (VP[] (Verb[] saw) (NP[] (Det[-pl] a) (Noun[-pl] dog))))\n"
     ]
    }
   ],
   "source": [
    "import nltk\n",
    "nltk.parse.featurechart.demo( print_times = False, print_grammar = True, \n",
    "                             parser = nltk.parse.featurechart.FeatureChartParser, sent = 'I saw a dog' )"
   ]
  },
  {
   "cell_type": "markdown",
   "metadata": {},
   "source": [
    "<br>\n",
    "# **2 나이브베이즈 활용**"
   ]
  },
  {
   "cell_type": "markdown",
   "metadata": {},
   "source": [
    "<br>\n",
    "## **1 NLKT의 영화리뷰 활용**\n",
    "nltk"
   ]
  },
  {
   "cell_type": "code",
   "execution_count": 8,
   "metadata": {},
   "outputs": [
    {
     "name": "stdout",
     "output_type": "stream",
     "text": [
      "Category : ['neg', 'pos']\n",
      "  Length : 1000\n",
      "\n",
      "pos_file_list : ['neg/cv000_29416.txt', 'neg/cv001_19502.txt', 'neg/cv002_17424.txt', 'neg/cv003_12683.txt', 'neg/cv004_12641.txt'] \n",
      "neg_file_list : ['pos/cv000_29590.txt', 'pos/cv001_18431.txt', 'pos/cv002_15918.txt', 'pos/cv003_11664.txt', 'pos/cv004_11636.txt']\n"
     ]
    }
   ],
   "source": [
    "from nltk.corpus import movie_reviews\n",
    "\n",
    "print('Category : {}\\n  Length : {}'.format(\n",
    "    movie_reviews.categories(),\n",
    "    len(movie_reviews.fileids(movie_reviews.categories()[1])) ))\n",
    "\n",
    "print('\\npos_file_list : {} \\nneg_file_list : {}'.format(\n",
    "    movie_reviews.fileids(movie_reviews.categories()[0])[:5],\n",
    "    movie_reviews.fileids(movie_reviews.categories()[1])[:5] ))"
   ]
  },
  {
   "cell_type": "code",
   "execution_count": 9,
   "metadata": {},
   "outputs": [],
   "source": [
    "# ! cat /home/markbaum/nltk_data/corpora/movie_reviews/neg/cv435_24355.txt\n",
    "example = \"\"\"a couple of criminals ( mario van peebles and loretta devine ) move into a rich family's house in \n",
    "hopes of conning them out of their jewels . however... \"\"\""
   ]
  },
  {
   "cell_type": "code",
   "execution_count": 10,
   "metadata": {},
   "outputs": [
    {
     "data": {
      "text/plain": [
       "FreqDist({',': 77717, 'the': 76529, '.': 65876, 'a': 38106, 'and': 35576, 'of': 34123, 'to': 31937, \"'\": 30585, 'is': 25195, 'in': 21822, ...})"
      ]
     },
     "execution_count": 10,
     "metadata": {},
     "output_type": "execute_result"
    }
   ],
   "source": [
    "import nltk, random\n",
    "docs = [(list(movie_reviews.words(fid)), cat) \n",
    "        for cat in movie_reviews.categories()   # ['neg', 'pos']\n",
    "        for fid in movie_reviews.fileids(cat)]  # 'neg/cv000_29416.txt', ....\n",
    "\n",
    "random.shuffle(docs)\n",
    "all_tokens     = nltk.FreqDist(x.lower()    for  x  in  movie_reviews.words())\n",
    "token_features = list(all_tokens.keys())[:2000]\n",
    "all_tokens"
   ]
  },
  {
   "cell_type": "code",
   "execution_count": 11,
   "metadata": {},
   "outputs": [],
   "source": [
    "def doc_features(docs):\n",
    "    doc_words = set(docs)      \n",
    "    features  = {'word( %s )'%word : (word in doc_words) \n",
    "                 for word in token_features }\n",
    "    return features"
   ]
  },
  {
   "cell_type": "code",
   "execution_count": 12,
   "metadata": {},
   "outputs": [
    {
     "name": "stdout",
     "output_type": "stream",
     "text": [
      "Accuracy : 0.84\n",
      "Most Informative Features\n",
      "   word( unimaginative ) = True              neg : pos    =      7.7 : 1.0\n",
      "          word( shoddy ) = True              neg : pos    =      7.0 : 1.0\n",
      "      word( schumacher ) = True              neg : pos    =      7.0 : 1.0\n",
      "          word( suvari ) = True              neg : pos    =      7.0 : 1.0\n",
      "            word( mena ) = True              neg : pos    =      7.0 : 1.0\n",
      "         word( singers ) = True              pos : neg    =      6.3 : 1.0\n",
      "       word( atrocious ) = True              neg : pos    =      6.2 : 1.0\n",
      "          word( wasted ) = True              neg : pos    =      5.9 : 1.0\n",
      "          word( turkey ) = True              neg : pos    =      5.9 : 1.0\n",
      "        word( explores ) = True              pos : neg    =      5.8 : 1.0\n"
     ]
    }
   ],
   "source": [
    "feature_sets = [(doc_features(d), c) for (d,c) in docs]\n",
    "train_sets, test_sets = feature_sets[100:], feature_sets[:100]\n",
    "\n",
    "classifiers = nltk.NaiveBayesClassifier.train(train_sets)\n",
    "print('Accuracy :', nltk.classify.accuracy(classifiers, test_sets))\n",
    "classifiers.show_most_informative_features() "
   ]
  },
  {
   "cell_type": "markdown",
   "metadata": {},
   "source": [
    "<br>\n",
    "# **3 나이브베이즈 활용 2**\n",
    "네이버 영화리뷰 데이터 활용하기"
   ]
  },
  {
   "cell_type": "markdown",
   "metadata": {},
   "source": [
    "<br>\n",
    "## **1 NAVER 영화리뷰 데이터 전처리**\n",
    "https://github.com/e9t/nsmc"
   ]
  },
  {
   "cell_type": "code",
   "execution_count": 13,
   "metadata": {},
   "outputs": [
    {
     "name": "stdout",
     "output_type": "stream",
     "text": [
      "id\tdocument\tlabel\r\n",
      "9976970\t아 더빙.. 진짜 짜증나네요 목소리\t0\r\n",
      "3819312\t흠...포스터보고 초딩영화줄....오버연기조차 가볍지 않구나\t1\r\n"
     ]
    }
   ],
   "source": [
    "! cat ./data/ratings_train.txt | head -n 3"
   ]
  },
  {
   "cell_type": "code",
   "execution_count": 14,
   "metadata": {},
   "outputs": [
    {
     "name": "stdout",
     "output_type": "stream",
     "text": [
      "Train_data : 3000\n",
      "sample     : [['3765316', '내가세상에서제일좋아하는영화 너무 매혹적인 영화다', '1'], ['6706790', '초중딩때보고 오랜만에 다시봤는데 진짜 추억돋음ㅎㅎ지금봐서 어색한 cg도 추억ㅎ', '1'], ['1071205', '정말 이해할래야 이해할수 없는 영화. 왜 만들었나 싶다', '0']]\n",
      "Test_data  : 1000\n",
      "sample     : [['3228611', '난 홍석천이 왜캐 웃기지 ㅋㅋ', '0'], ['9882801', '어설픈 cg와 왜색으로 엉망인 영화', '0'], ['521579', '반전이 기억이 안나는데', '1']]\n"
     ]
    }
   ],
   "source": [
    "def read_data(filename):\n",
    "    with open(filename, 'r') as f:\n",
    "        data = [line.split('\\t') for line in f.read().splitlines()]\n",
    "        data = data[1:]   # header 제외\n",
    "        \n",
    "    from random import randint\n",
    "    random_data = [data[randint(1, len(data))]  for no in range(int(len(data)/50)) ]\n",
    "    return random_data\n",
    "\n",
    "train_data = read_data('./data/ratings_train.txt')\n",
    "test_data  = read_data('./data/ratings_test.txt')\n",
    "print('Train_data : {}\\nsample     : {}'.format(len(train_data), train_data[:3]))\n",
    "print('Test_data  : {}\\nsample     : {}'.format(len(test_data), test_data[:3]))"
   ]
  },
  {
   "cell_type": "code",
   "execution_count": 15,
   "metadata": {},
   "outputs": [
    {
     "name": "stdout",
     "output_type": "stream",
     "text": [
      "CPU times: user 3 µs, sys: 0 ns, total: 3 µs\n",
      "Wall time: 6.68 µs\n",
      "[(['내/Determiner',\n",
      "   '가세/Noun',\n",
      "   '상/Suffix',\n",
      "   '에서/Josa',\n",
      "   '제일/Noun',\n",
      "   '좋아하다/Adjective',\n",
      "   '영화/Noun',\n",
      "   '너무/Noun',\n",
      "   '매혹/Noun',\n",
      "   '적/Suffix',\n",
      "   '인/Josa',\n",
      "   '영화/Noun',\n",
      "   '다/Josa'],\n",
      "  '1'),\n",
      " (['초/Noun',\n",
      "   '중딩/Noun',\n",
      "   '때/Noun',\n",
      "   '보고/Noun',\n",
      "   '오랜만/Noun',\n",
      "   '에/Josa',\n",
      "   '다시/Noun',\n",
      "   '보다/Verb',\n",
      "   '진짜/Noun',\n",
      "   '추억/Noun',\n",
      "   '돋다/Adjective',\n",
      "   'ㅎㅎ/KoreanParticle',\n",
      "   '지금/Noun',\n",
      "   '봐/Noun',\n",
      "   '서/Josa',\n",
      "   '어색하다/Adjective',\n",
      "   'cg/Alpha',\n",
      "   '도/Noun',\n",
      "   '추억/Noun',\n",
      "   'ㅎ/KoreanParticle'],\n",
      "  '1')]\n"
     ]
    }
   ],
   "source": [
    "%time\n",
    "from konlpy.tag import Twitter\n",
    "pos_tagger = Twitter()\n",
    "\n",
    "def tokenize(doc):\n",
    "    result = ['/'.join(t) for t in pos_tagger.pos(doc, norm=True, stem=True)]\n",
    "    return result \n",
    "\n",
    "train_docs = [(tokenize(row[1]), row[2])    for row in train_data]\n",
    "test_docs  = [(tokenize(row[1]), row[2])    for row in test_data]\n",
    "\n",
    "from pprint import pprint\n",
    "pprint(train_docs[:2])"
   ]
  },
  {
   "cell_type": "code",
   "execution_count": 16,
   "metadata": {},
   "outputs": [
    {
     "name": "stdout",
     "output_type": "stream",
     "text": [
      "43797\n"
     ]
    }
   ],
   "source": [
    "tokens = [t   for d in train_docs \n",
    "              for t in d[0]]\n",
    "print(len(tokens))"
   ]
  },
  {
   "cell_type": "markdown",
   "metadata": {},
   "source": [
    "<br>\n",
    "## **2 nltk 를 활용하여 연산모델 만들기**\n",
    "https://github.com/e9t/nsmc"
   ]
  },
  {
   "cell_type": "code",
   "execution_count": 17,
   "metadata": {},
   "outputs": [
    {
     "name": "stdout",
     "output_type": "stream",
     "text": [
      "number of Token : 43797 \n",
      "unique Token    : 6545\n",
      "\n",
      "[('./Punctuation', 1372),\n",
      " ('하다/Verb', 990),\n",
      " ('영화/Noun', 982),\n",
      " ('이/Josa', 788),\n",
      " ('보다/Verb', 684),\n",
      " ('의/Josa', 564),\n",
      " ('../Punctuation', 562),\n",
      " ('가/Josa', 546),\n",
      " ('에/Josa', 508),\n",
      " ('.../Punctuation', 492)]\n"
     ]
    }
   ],
   "source": [
    "import nltk\n",
    "text = nltk.Text(tokens, name='NMSC')\n",
    "print(\"number of Token : {} \\nunique Token    : {}\\n\".format(\n",
    "    len(text.tokens), len(set(text.tokens))))\n",
    "pprint(text.vocab().most_common(10))    "
   ]
  },
  {
   "cell_type": "code",
   "execution_count": 18,
   "metadata": {},
   "outputs": [
    {
     "data": {
      "image/png": "[encoded data removed]",
      "text/plain": [
       "<matplotlib.figure.Figure at 0x7f279a4f53c8>"
      ]
     },
     "metadata": {},
     "output_type": "display_data"
    }
   ],
   "source": [
    "%matplotlib inline\n",
    "from matplotlib import font_manager, rc\n",
    "font_fname = './data/D2Coding.ttf'     \n",
    "font_name = font_manager.FontProperties(fname=font_fname).get_name()\n",
    "rc('font', family=font_name)\n",
    "\n",
    "import matplotlib.pyplot as plt\n",
    "plt.figure(figsize=(16,5))\n",
    "text.plot(50) "
   ]
  },
  {
   "cell_type": "markdown",
   "metadata": {},
   "source": [
    "<br>\n",
    "## **3 모델의 정확도/ 일반화를 높이는 추가작업**\n",
    "우도 상위 2000개 데이터를 추출"
   ]
  },
  {
   "cell_type": "code",
   "execution_count": 19,
   "metadata": {},
   "outputs": [
    {
     "name": "stdout",
     "output_type": "stream",
     "text": [
      "CPU times: user 6.88 s, sys: 372 ms, total: 7.25 s\n",
      "Wall time: 7.25 s\n"
     ]
    }
   ],
   "source": [
    "%%time\n",
    "selected_words = [f[0] for f in text.vocab().most_common(2000)]\n",
    "def term_exists(doc):\n",
    "    return {'exists({})'.format(word): (word in set(doc)) for word in selected_words}\n",
    "\n",
    "train_docs = train_docs[:10000]\n",
    "train_xy   = [(term_exists(d), c) for d, c in train_docs]\n",
    "test_xy    = [(term_exists(d), c) for d, c in test_docs]"
   ]
  },
  {
   "cell_type": "code",
   "execution_count": 20,
   "metadata": {},
   "outputs": [
    {
     "name": "stdout",
     "output_type": "stream",
     "text": [
      "CPU times: user 6.95 s, sys: 1.89 ms, total: 6.95 s\n",
      "Wall time: 6.95 s\n"
     ]
    }
   ],
   "source": [
    "%%time\n",
    "classifier = nltk.NaiveBayesClassifier.train(train_xy)"
   ]
  },
  {
   "cell_type": "markdown",
   "metadata": {},
   "source": [
    "<br>\n",
    "## **4 생성한 모델을 평가**\n",
    "Accuracy"
   ]
  },
  {
   "cell_type": "code",
   "execution_count": 21,
   "metadata": {},
   "outputs": [
    {
     "name": "stdout",
     "output_type": "stream",
     "text": [
      "네이버 긍부정 모델의 Accuracy : 0.788\n",
      "Most Informative Features\n",
      "   exists(슬프다/Adjective) = True                1 : 0      =     14.4 : 1.0\n",
      "          exists(냐/Josa) = True                0 : 1      =     13.6 : 1.0\n",
      "        exists(쓰레기/Noun) = True                0 : 1      =     13.5 : 1.0\n",
      "  exists(재미없다/Adjective) = True                0 : 1      =     12.9 : 1.0\n",
      "          exists(굿/Noun) = True                1 : 0      =     10.4 : 1.0\n",
      "         exists(점도/Noun) = True                0 : 1      =     10.3 : 1.0\n",
      "         exists(짜증/Noun) = True                0 : 1      =     10.2 : 1.0\n",
      "        exists(OO/Alpha) = True                0 : 1      =      9.6 : 1.0\n",
      "         exists(설정/Noun) = True                0 : 1      =      9.6 : 1.0\n",
      "         exists(모습/Noun) = True                1 : 0      =      9.0 : 1.0\n"
     ]
    }
   ],
   "source": [
    "print('네이버 긍부정 모델의 Accuracy : {}'.format(\n",
    "    nltk.classify.accuracy(classifier, test_xy)))\n",
    "classifier.show_most_informative_features(10)"
   ]
  },
  {
   "cell_type": "code",
   "execution_count": 22,
   "metadata": {},
   "outputs": [
    {
     "name": "stdout",
     "output_type": "stream",
     "text": [
      "Displaying 2 of 2 matches:\n",
      "tuation 바네사/Noun 는/Josa 넘다/Verb 섹시하다/Adjective 역/Noun 맡다/Verb 안달/Noun 난/Josa 배\n",
      "투/Noun 는/Josa 또/Noun 어찌나/Adverb 섹시하다/Adjective .../Punctuation 담다/Verb 하다/Verb\n"
     ]
    }
   ],
   "source": [
    "text.concordance('섹시하다/Adjective', lines=10)"
   ]
  }
 ],
 "metadata": {
  "kernelspec": {
   "display_name": "Python 3",
   "language": "python",
   "name": "python3"
  },
  "language_info": {
   "codemirror_mode": {
    "name": "ipython",
    "version": 3
   },
   "file_extension": ".py",
   "mimetype": "text/x-python",
   "name": "python",
   "nbconvert_exporter": "python",
   "pygments_lexer": "ipython3",
   "version": "3.6.3"
  }
 },
 "nbformat": 4,
 "nbformat_minor": 2
}
