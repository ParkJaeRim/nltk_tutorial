{
 "cells": [
  {
   "cell_type": "markdown",
   "metadata": {},
   "source": [
    "<br></br>\n",
    "# **Parse Tree 문장구조 분석**\n",
    "\n",
    "<br></br>\n",
    "## **1 Parsing**\n",
    "문법적 구조를 활용한 분석"
   ]
  },
  {
   "cell_type": "code",
   "execution_count": 1,
   "metadata": {},
   "outputs": [
    {
     "name": "stdout",
     "output_type": "stream",
     "text": [
      "[('민병삼', 'Noun'), ('대령', 'Noun'), ('의', 'Josa'), ('항', 'Noun'), ('명', 'Suffix'), ('행위', 'Noun'), ('로', 'Josa'), ('초치', 'Noun'), ('하다', 'Verb')]\n",
      "CPU times: user 7.34 s, sys: 375 ms, total: 7.71 s\n",
      "Wall time: 2.89 s\n"
     ]
    }
   ],
   "source": [
    "%%time\n",
    "text = '민병삼 대령의 항명행위로 초치했다'\n",
    "\n",
    "from konlpy.tag import Okt\n",
    "twitter = Okt()\n",
    "words = twitter.pos(text, stem=True)\n",
    "print(words)"
   ]
  },
  {
   "cell_type": "code",
   "execution_count": 2,
   "metadata": {},
   "outputs": [
    {
     "data": {
      "text/plain": [
       "<chunk.RegexpParser with 3 stages>"
      ]
     },
     "execution_count": 2,
     "metadata": {},
     "output_type": "execute_result"
    }
   ],
   "source": [
    "from nltk import RegexpParser\n",
    "\n",
    "grammar = \"\"\"\n",
    "NP: {<N.*>*<Suffix>?}   # 명사구를 정의한다\n",
    "VP: {<V.*>*}            # 동사구를 정의한다\n",
    "AP: {<A.*>*}            # 형용사구를 정의한다 \"\"\"\n",
    "parser = RegexpParser(grammar)\n",
    "parser"
   ]
  },
  {
   "cell_type": "code",
   "execution_count": 3,
   "metadata": {},
   "outputs": [
    {
     "data": {
      "image/png": "[encoded data removed]",
      "text/plain": [
       "Tree('S', [Tree('NP', [('민병삼', 'Noun'), ('대령', 'Noun')]), ('의', 'Josa'), Tree('NP', [('항', 'Noun'), ('명', 'Suffix')]), Tree('NP', [('행위', 'Noun')]), ('로', 'Josa'), Tree('NP', [('초치', 'Noun')]), Tree('VP', [('하다', 'Verb')])])"
      ]
     },
     "execution_count": 3,
     "metadata": {},
     "output_type": "execute_result"
    }
   ],
   "source": [
    "chunks = parser.parse(words)\n",
    "chunks"
   ]
  },
  {
   "cell_type": "code",
   "execution_count": 4,
   "metadata": {},
   "outputs": [
    {
     "name": "stdout",
     "output_type": "stream",
     "text": [
      "[[Tree('NP', [('민병삼', 'Noun'), ('대령', 'Noun')]),\n",
      "  ('의', 'Josa'),\n",
      "  Tree('NP', [('항', 'Noun'), ('명', 'Suffix')]),\n",
      "  Tree('NP', [('행위', 'Noun')]),\n",
      "  ('로', 'Josa'),\n",
      "  Tree('NP', [('초치', 'Noun')]),\n",
      "  Tree('VP', [('하다', 'Verb')])],\n",
      " [('민병삼', 'Noun'), ('대령', 'Noun')],\n",
      " [('항', 'Noun'), ('명', 'Suffix')],\n",
      " [('행위', 'Noun')],\n",
      " [('초치', 'Noun')],\n",
      " [('하다', 'Verb')]]\n"
     ]
    }
   ],
   "source": [
    "text_tree = [list(txt)    for txt in chunks.subtrees()]\n",
    "from pprint import pprint\n",
    "pprint(text_tree)"
   ]
  },
  {
   "cell_type": "markdown",
   "metadata": {},
   "source": [
    "<br></br>\n",
    "## **2 촘스키 CGF 문법규칙 활용**\n",
    "Penn Treebank Corpus"
   ]
  },
  {
   "cell_type": "code",
   "execution_count": 5,
   "metadata": {},
   "outputs": [],
   "source": [
    "# import nltk\n",
    "# nltk.download('treebank')"
   ]
  },
  {
   "cell_type": "code",
   "execution_count": 6,
   "metadata": {},
   "outputs": [
    {
     "name": "stdout",
     "output_type": "stream",
     "text": [
      "['McDermott', 'International', 'Inc.', 'said', '0', ...]\n",
      "[('McDermott', 'NNP'), ('International', 'NNP'), ...]\n",
      "(S\n",
      "  (NP-SBJ\n",
      "    (NP (NNP Bailey) (NNP Controls))\n",
      "    (, ,)\n",
      "    (VP\n",
      "      (VBN based)\n",
      "      (NP (-NONE- *))\n",
      "      (PP-LOC-CLR\n",
      "        (IN in)\n",
      "        (NP (NP (NNP Wickliffe)) (, ,) (NP (NNP Ohio)))))\n",
      "    (, ,))\n",
      "  (VP\n",
      "    (VBZ makes)\n",
      "    (NP\n",
      "      (JJ computerized)\n",
      "      (JJ industrial)\n",
      "      (NNS controls)\n",
      "      (NNS systems)))\n",
      "  (. .))\n"
     ]
    }
   ],
   "source": [
    "from nltk.corpus import treebank\n",
    "print(treebank.words('wsj_0007.mrg'))        \n",
    "print(treebank.tagged_words('wsj_0007.mrg')) \n",
    "print(treebank.parsed_sents('wsj_0007.mrg')[2])"
   ]
  },
  {
   "cell_type": "code",
   "execution_count": 7,
   "metadata": {},
   "outputs": [
    {
     "name": "stdout",
     "output_type": "stream",
     "text": [
      "Grammar with 23 productions (start state = S)\n",
      "    S -> NP VP [1.0]\n",
      "    VP -> V NP [0.59]\n",
      "    VP -> V [0.4]\n",
      "    VP -> VP PP [0.01]\n",
      "    NP -> Det N [0.41]\n",
      "    NP -> Name [0.28]\n",
      "    NP -> NP PP [0.31]\n",
      "    PP -> P NP [1.0]\n",
      "    V -> 'saw' [0.21]\n",
      "    V -> 'ate' [0.51]\n",
      "    V -> 'ran' [0.28]\n",
      "    N -> 'boy' [0.11]\n",
      "    N -> 'cookie' [0.12]\n",
      "    N -> 'table' [0.13]\n",
      "    N -> 'telescope' [0.14]\n",
      "    N -> 'hill' [0.5]\n",
      "    Name -> 'Jack' [0.52]\n",
      "    Name -> 'Bob' [0.48]\n",
      "    P -> 'with' [0.61]\n",
      "    P -> 'under' [0.39]\n",
      "    Det -> 'the' [0.41]\n",
      "    Det -> 'a' [0.31]\n",
      "    Det -> 'my' [0.28]\n"
     ]
    }
   ],
   "source": [
    "from nltk.grammar import toy_pcfg2\n",
    "grammar = toy_pcfg2\n",
    "print(grammar)"
   ]
  },
  {
   "cell_type": "code",
   "execution_count": 8,
   "metadata": {},
   "outputs": [
    {
     "name": "stdout",
     "output_type": "stream",
     "text": [
      "Grammar with 23 productions (start state = S)\n",
      "    S -> NP VP [1.0]\n",
      "    VP -> V NP [0.59]\n",
      "    VP -> V [0.4]\n",
      "    VP -> VP PP [0.01]\n",
      "    NP -> Det N [0.41]\n",
      "    NP -> Name [0.28]\n",
      "    NP -> NP PP [0.31]\n",
      "    PP -> P NP [1.0]\n",
      "    V -> 'saw' [0.21]\n",
      "    V -> 'ate' [0.51]\n",
      "    V -> 'ran' [0.28]\n",
      "    N -> 'boy' [0.11]\n",
      "    N -> 'cookie' [0.12]\n",
      "    N -> 'table' [0.13]\n",
      "    N -> 'telescope' [0.14]\n",
      "    N -> 'hill' [0.5]\n",
      "    Name -> 'Jack' [0.52]\n",
      "    Name -> 'Bob' [0.48]\n",
      "    P -> 'with' [0.61]\n",
      "    P -> 'under' [0.39]\n",
      "    Det -> 'the' [0.41]\n",
      "    Det -> 'a' [0.31]\n",
      "    Det -> 'my' [0.28]\n"
     ]
    }
   ],
   "source": [
    "from nltk.grammar import toy_pcfg2\n",
    "tokens = \"jack seat on table\".split()\n",
    "grammar = toy_pcfg2\n",
    "print(grammar)"
   ]
  },
  {
   "cell_type": "markdown",
   "metadata": {},
   "source": [
    "<br></br>\n",
    "## **3 Earley 차트 파싱 알고리즘**\n",
    "1970년 발표한 알고리즘으로 Top-Down 파싱과 유사하고 좌측방향 재귀처리를 통해서 문장을 분석한다"
   ]
  },
  {
   "cell_type": "code",
   "execution_count": 9,
   "metadata": {},
   "outputs": [
    {
     "name": "stdout",
     "output_type": "stream",
     "text": [
      "\n",
      "Grammar with 18 productions (start state = S[])\n",
      "    S[] -> NP[] VP[]\n",
      "    PP[] -> Prep[] NP[]\n",
      "    NP[] -> NP[] PP[]\n",
      "    VP[] -> VP[] PP[]\n",
      "    VP[] -> Verb[] NP[]\n",
      "    VP[] -> Verb[]\n",
      "    NP[] -> Det[pl=?x] Noun[pl=?x]\n",
      "    NP[] -> 'John'\n",
      "    NP[] -> 'I'\n",
      "    Det[] -> 'the'\n",
      "    Det[] -> 'my'\n",
      "    Det[-pl] -> 'a'\n",
      "    Noun[-pl] -> 'dog'\n",
      "    Noun[-pl] -> 'cookie'\n",
      "    Verb[] -> 'ate'\n",
      "    Verb[] -> 'saw'\n",
      "    Prep[] -> 'with'\n",
      "    Prep[] -> 'under'\n",
      "\n",
      "* FeatureChartParser\n",
      "Sentence: I saw a dog\n",
      "|. I .saw. a .dog.|\n",
      "|[---]   .   .   .| [0:1] 'I'\n",
      "|.   [---]   .   .| [1:2] 'saw'\n",
      "|.   .   [---]   .| [2:3] 'a'\n",
      "|.   .   .   [---]| [3:4] 'dog'\n",
      "|[---]   .   .   .| [0:1] NP[] -> 'I' *\n",
      "|[--->   .   .   .| [0:1] S[] -> NP[] * VP[] {}\n",
      "|[--->   .   .   .| [0:1] NP[] -> NP[] * PP[] {}\n",
      "|.   [---]   .   .| [1:2] Verb[] -> 'saw' *\n",
      "|.   [--->   .   .| [1:2] VP[] -> Verb[] * NP[] {}\n",
      "|.   [---]   .   .| [1:2] VP[] -> Verb[] *\n",
      "|.   [--->   .   .| [1:2] VP[] -> VP[] * PP[] {}\n",
      "|[-------]   .   .| [0:2] S[] -> NP[] VP[] *\n",
      "|.   .   [---]   .| [2:3] Det[-pl] -> 'a' *\n",
      "|.   .   [--->   .| [2:3] NP[] -> Det[pl=?x] * Noun[pl=?x] {?x: False}\n",
      "|.   .   .   [---]| [3:4] Noun[-pl] -> 'dog' *\n",
      "|.   .   [-------]| [2:4] NP[] -> Det[-pl] Noun[-pl] *\n",
      "|.   .   [------->| [2:4] S[] -> NP[] * VP[] {}\n",
      "|.   .   [------->| [2:4] NP[] -> NP[] * PP[] {}\n",
      "|.   [-----------]| [1:4] VP[] -> Verb[] NP[] *\n",
      "|.   [----------->| [1:4] VP[] -> VP[] * PP[] {}\n",
      "|[===============]| [0:4] S[] -> NP[] VP[] *\n",
      "(S[]\n",
      "  (NP[] I)\n",
      "  (VP[] (Verb[] saw) (NP[] (Det[-pl] a) (Noun[-pl] dog))))\n"
     ]
    }
   ],
   "source": [
    "import nltk\n",
    "nltk.parse.featurechart.demo( print_times   = False, \n",
    "                              print_grammar = True, \n",
    "                              parser = nltk.parse.featurechart.FeatureChartParser, \n",
    "                              sent   = 'I saw a dog' )"
   ]
  }
 ],
 "metadata": {
  "kernelspec": {
   "display_name": "Python 3",
   "language": "python",
   "name": "python3"
  },
  "language_info": {
   "codemirror_mode": {
    "name": "ipython",
    "version": 3
   },
   "file_extension": ".py",
   "mimetype": "text/x-python",
   "name": "python",
   "nbconvert_exporter": "python",
   "pygments_lexer": "ipython3",
   "version": "3.6.3"
  }
 },
 "nbformat": 4,
 "nbformat_minor": 2
}
