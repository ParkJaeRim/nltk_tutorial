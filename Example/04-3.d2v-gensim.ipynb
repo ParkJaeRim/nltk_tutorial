{
 "cells": [
  {
   "cell_type": "markdown",
   "metadata": {},
   "source": [
    "<br></br>\n",
    "# **gensim | doc2vec**\n",
    "<br></br>\n",
    "## **1 네이버 단어 전처리**\n",
    "네이버 영화리뷰 단어모델 만들기"
   ]
  },
  {
   "cell_type": "code",
   "execution_count": 1,
   "metadata": {},
   "outputs": [],
   "source": [
    "from konlpy.tag import Okt\n",
    "twitter = Okt()\n",
    "\n",
    "def read_data(filename):\n",
    "    with open(filename, 'r') as f:\n",
    "        data = [line.split('\\t') for line in f.read().splitlines()]\n",
    "    from random import randint\n",
    "    random_data = [data[randint(1, len(data))]  for no in range(int(len(data)/10)) ]\n",
    "    return random_data\n",
    "\n",
    "def tokenize(doc):\n",
    "    return ['/'.join(t) for t in twitter.pos(doc, norm=True, stem=True)]"
   ]
  },
  {
   "cell_type": "code",
   "execution_count": 2,
   "metadata": {},
   "outputs": [
    {
     "name": "stdout",
     "output_type": "stream",
     "text": [
      "CPU times: user 54.4 s, sys: 305 ms, total: 54.7 s\n",
      "Wall time: 42.2 s\n"
     ]
    }
   ],
   "source": [
    "%%time\n",
    "from collections import namedtuple\n",
    "train_data        = read_data('../data/ratings_train.txt')\n",
    "train_docs        = [(tokenize(row[1]), row[2]) for row in train_data[1:]]\n",
    "TaggedDocument    = namedtuple('TaggedDocument', 'words tags')\n",
    "tagged_train_docs = [TaggedDocument(d, [c]) for d, c in train_docs]"
   ]
  },
  {
   "cell_type": "code",
   "execution_count": 3,
   "metadata": {},
   "outputs": [
    {
     "name": "stdout",
     "output_type": "stream",
     "text": [
      "TaggedDocument(words=['쪼/Noun', '는/Josa', '힘/Noun', '이/Josa', '대단하다/Adjective', './Punctuation', '박스오피스/Noun', '1/Number', '위/Noun', '하다/Verb', '만해/Noun'], tags=['1'])\n"
     ]
    }
   ],
   "source": [
    "from pprint import pprint\n",
    "pprint(tagged_train_docs[0])"
   ]
  },
  {
   "cell_type": "markdown",
   "metadata": {},
   "source": [
    "<br></br>\n",
    "## **2 doc2vec 파라미터 설정 및 학습**"
   ]
  },
  {
   "cell_type": "code",
   "execution_count": 4,
   "metadata": {},
   "outputs": [
    {
     "name": "stdout",
     "output_type": "stream",
     "text": [
      "CPU times: user 55.7 s, sys: 3.55 s, total: 59.2 s\n",
      "Wall time: 29.8 s\n"
     ]
    }
   ],
   "source": [
    "%%time\n",
    "from gensim.models import doc2vec\n",
    "doc_vectorizer = doc2vec.Doc2Vec(vector_size=300, alpha=0.025, min_alpha=0.025, seed=1234)\n",
    "doc_vectorizer.build_vocab(tagged_train_docs)\n",
    "\n",
    "for epoch in range(10):\n",
    "    doc_vectorizer.train(tagged_train_docs, \n",
    "                         total_examples = doc_vectorizer.corpus_count, \n",
    "                         epochs = doc_vectorizer.epochs)\n",
    "    doc_vectorizer.alpha -= 0.002\n",
    "    doc_vectorizer.min_alpha = doc_vectorizer.alpha \n",
    "\n",
    "# 학습이 완료된 모델의 데이터를 저장한다\n",
    "doc_vectorizer.save('../data/doc2vec.model')"
   ]
  },
  {
   "cell_type": "markdown",
   "metadata": {},
   "source": [
    "<br></br>\n",
    "## **3 doc2Vec 모델활용**"
   ]
  },
  {
   "cell_type": "code",
   "execution_count": 5,
   "metadata": {},
   "outputs": [],
   "source": [
    "from gensim.models import doc2vec\n",
    "from pprint import pprint\n",
    "doc_vectorizer = doc2vec.Doc2Vec.load('../data/doc2vec.model')"
   ]
  },
  {
   "cell_type": "code",
   "execution_count": 6,
   "metadata": {},
   "outputs": [
    {
     "name": "stdout",
     "output_type": "stream",
     "text": [
      "[('코미디/Noun', 0.4617426097393036),\n",
      " ('로맨스/Noun', 0.4353543519973755),\n",
      " ('경계/Noun', 0.40590929985046387),\n",
      " ('보이/Noun', 0.40513288974761963),\n",
      " ('스릴러/Noun', 0.4018145203590393),\n",
      " ('독일/Noun', 0.39838650822639465),\n",
      " ('코메디/Noun', 0.39736342430114746),\n",
      " ('재난영화/Noun', 0.3963260352611542),\n",
      " ('이어지다/Verb', 0.39346280694007874),\n",
      " ('스무살/Noun', 0.3892365097999573)]\n"
     ]
    },
    {
     "name": "stderr",
     "output_type": "stream",
     "text": [
      "/home/markbaum/Python/nltk/lib/python3.6/site-packages/gensim/matutils.py:737: FutureWarning: Conversion of the second argument of issubdtype from `int` to `np.signedinteger` is deprecated. In future, it will be treated as `np.int64 == np.dtype(int).type`.\n",
      "  if np.issubdtype(vec.dtype, np.int):\n"
     ]
    }
   ],
   "source": [
    "pprint(doc_vectorizer.wv.most_similar('공포/Noun'))"
   ]
  },
  {
   "cell_type": "code",
   "execution_count": 7,
   "metadata": {},
   "outputs": [
    {
     "name": "stderr",
     "output_type": "stream",
     "text": [
      "/home/markbaum/Python/nltk/lib/python3.6/site-packages/gensim/matutils.py:737: FutureWarning: Conversion of the second argument of issubdtype from `int` to `np.signedinteger` is deprecated. In future, it will be treated as `np.int64 == np.dtype(int).type`.\n",
      "  if np.issubdtype(vec.dtype, np.int):\n"
     ]
    },
    {
     "data": {
      "text/plain": [
       "-0.08924653"
      ]
     },
     "execution_count": 7,
     "metadata": {},
     "output_type": "execute_result"
    }
   ],
   "source": [
    "doc_vectorizer.wv.similarity('공포/Noun', 'ㅋㅋ/KoreanParticle')"
   ]
  },
  {
   "cell_type": "code",
   "execution_count": 8,
   "metadata": {},
   "outputs": [
    {
     "name": "stdout",
     "output_type": "stream",
     "text": [
      "[('풍자/Noun', 0.3298577070236206),\n",
      " ('극한/Noun', 0.32718753814697266),\n",
      " ('예술/Noun', 0.3229265809059143),\n",
      " ('한계/Noun', 0.3211601674556732),\n",
      " ('추격/Noun', 0.3196162283420563),\n",
      " ('..!/Punctuation', 0.31661269068717957),\n",
      " ('마스터/Noun', 0.31202661991119385),\n",
      " ('기사/Noun', 0.3075469732284546),\n",
      " ('작위/Noun', 0.30395781993865967),\n",
      " ('전이/Noun', 0.2954846918582916)]\n"
     ]
    },
    {
     "name": "stderr",
     "output_type": "stream",
     "text": [
      "/home/markbaum/Python/nltk/lib/python3.6/site-packages/gensim/matutils.py:737: FutureWarning: Conversion of the second argument of issubdtype from `int` to `np.signedinteger` is deprecated. In future, it will be treated as `np.int64 == np.dtype(int).type`.\n",
      "  if np.issubdtype(vec.dtype, np.int):\n"
     ]
    }
   ],
   "source": [
    "pprint(doc_vectorizer.wv.most_similar(positive=['여자/Noun', '공포/Noun'], \n",
    "                                      negative=['남자/Noun']))"
   ]
  },
  {
   "cell_type": "code",
   "execution_count": 9,
   "metadata": {},
   "outputs": [
    {
     "data": {
      "text/plain": [
       "array([-0.00221595, -0.01148298,  0.00479257,  0.00838931,  0.00047217,\n",
       "       -0.00418797,  0.01052418, -0.00523602,  0.00747818,  0.00087289],\n",
       "      dtype=float32)"
      ]
     },
     "execution_count": 9,
     "metadata": {},
     "output_type": "execute_result"
    }
   ],
   "source": [
    "doc_vectorizer.infer_vector(['픽사/Noun', '최고/Noun', '명작/Noun'])[:10]"
   ]
  },
  {
   "cell_type": "code",
   "execution_count": 10,
   "metadata": {},
   "outputs": [
    {
     "data": {
      "text/plain": [
       "0.1386233"
      ]
     },
     "execution_count": 10,
     "metadata": {},
     "output_type": "execute_result"
    }
   ],
   "source": [
    "doc_vectorizer.infer_vector(['픽사/Noun', '최고/Noun', '명작/Noun']).sum()"
   ]
  }
 ],
 "metadata": {
  "kernelspec": {
   "display_name": "Python 3",
   "language": "python",
   "name": "python3"
  },
  "language_info": {
   "codemirror_mode": {
    "name": "ipython",
    "version": 3
   },
   "file_extension": ".py",
   "mimetype": "text/x-python",
   "name": "python",
   "nbconvert_exporter": "python",
   "pygments_lexer": "ipython3",
   "version": "3.6.3"
  }
 },
 "nbformat": 4,
 "nbformat_minor": 2
}
