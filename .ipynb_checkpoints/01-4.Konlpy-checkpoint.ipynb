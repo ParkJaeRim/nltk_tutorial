{
 "cells": [
  {
   "cell_type": "markdown",
   "metadata": {},
   "source": [
    "<br></br>\n",
    "# **pip3 install konlpy**\n",
    "<br></br>\n",
    "## **1 한글 에서의 Token 와 Tag 생성**"
   ]
  },
  {
   "cell_type": "code",
   "execution_count": null,
   "metadata": {},
   "outputs": [],
   "source": [
    "# ! pip3 install konlpy"
   ]
  },
  {
   "cell_type": "code",
   "execution_count": null,
   "metadata": {},
   "outputs": [],
   "source": [
    "%%time\n",
    "text = '민병삼 대령의 항명행위로 초치했다'\n",
    "\n",
    "from konlpy.tag import Okt\n",
    "twitter = Okt()\n",
    "print(twitter.pos(text))"
   ]
  },
  {
   "cell_type": "code",
   "execution_count": null,
   "metadata": {},
   "outputs": [],
   "source": [
    "%%time\n",
    "text = '민병삼 대령의 항명행위로 초치했다'\n",
    "print(twitter.pos(text, stem=True))"
   ]
  },
  {
   "cell_type": "code",
   "execution_count": null,
   "metadata": {},
   "outputs": [],
   "source": [
    "%%time\n",
    "from konlpy.tag import Kkma\n",
    "kkma = Kkma()\n",
    "print(kkma.pos(text))"
   ]
  },
  {
   "cell_type": "code",
   "execution_count": null,
   "metadata": {},
   "outputs": [],
   "source": [
    "%%time\n",
    "from konlpy.tag import Hannanum\n",
    "han = Hannanum()\n",
    "print(han.pos(text))"
   ]
  },
  {
   "cell_type": "markdown",
   "metadata": {},
   "source": [
    "<br></br>\n",
    "## **2 한글 WordCloud 만들기**"
   ]
  },
  {
   "cell_type": "code",
   "execution_count": null,
   "metadata": {},
   "outputs": [],
   "source": [
    "# 독일 퀘르버 재단 연설문 : 베를린 선언\n",
    "f     = open('./data/베를린선언.txt', 'r')\n",
    "texts_org = f.read()\n",
    "f.close()"
   ]
  },
  {
   "cell_type": "code",
   "execution_count": null,
   "metadata": {},
   "outputs": [],
   "source": [
    "texts_nouns = twitter.nouns(texts_org)\n",
    "texts_nouns[:10]"
   ]
  },
  {
   "cell_type": "code",
   "execution_count": null,
   "metadata": {},
   "outputs": [],
   "source": [
    "result_nouns = ''\n",
    "for txt in texts_nouns:\n",
    "    result_nouns += \" \" + txt\n",
    "\n",
    "result_nouns[:500]"
   ]
  },
  {
   "cell_type": "code",
   "execution_count": null,
   "metadata": {
    "scrolled": true
   },
   "outputs": [],
   "source": [
    "%matplotlib inline\n",
    "from matplotlib import rc\n",
    "import matplotlib.pyplot as plt\n",
    "rc('font', family='NanumGothic')\n",
    "\n",
    "from wordcloud import WordCloud\n",
    "wcloud = WordCloud('./data/D2Coding.ttf',relative_scaling = 0.2).generate(result_nouns)\n",
    "plt.figure(figsize=(12,12))\n",
    "plt.imshow(wcloud, interpolation='bilinear')\n",
    "plt.axis(\"off\")"
   ]
  },
  {
   "cell_type": "markdown",
   "metadata": {},
   "source": [
    "<br></br>\n",
    "## **추가 옵션들 실습하기**\n",
    "https://amueller.github.io/word_cloud/generated/wordcloud.WordCloud.html"
   ]
  },
  {
   "cell_type": "code",
   "execution_count": null,
   "metadata": {},
   "outputs": [],
   "source": [
    "# wcloud = WordCloud('./data/godoMaum.ttf',relative_scaling = 0.2, height=300, width=700).generate(texts_org)\n",
    "# wcloud.to_file('./data/wordcloud.jpg')\n",
    "# plt.savefig('./data/wordcloud.jpg', dpi=300)"
   ]
  }
 ],
 "metadata": {
  "kernelspec": {
   "display_name": "Python 3",
   "language": "python",
   "name": "python3"
  },
  "language_info": {
   "codemirror_mode": {
    "name": "ipython",
    "version": 3
   },
   "file_extension": ".py",
   "mimetype": "text/x-python",
   "name": "python",
   "nbconvert_exporter": "python",
   "pygments_lexer": "ipython3",
   "version": "3.6.3"
  }
 },
 "nbformat": 4,
 "nbformat_minor": 2
}
