{
 "cells": [
  {
   "cell_type": "markdown",
   "metadata": {},
   "source": [
    "<br>\n",
    "# **의미론 분석**\n",
    "## 1 Parsing\n",
    "## 2 Semantic Analysis"
   ]
  },
  {
   "cell_type": "markdown",
   "metadata": {},
   "source": [
    "<br>\n",
    "# **자연어 분석과정**\n",
    "<br>\n",
    "1. 우선 언어학을 근간으로 한다\n",
    "1. <strike>말소리를 연구하는 **음운론(Phonology)** : 음성인식</strike>\n",
    "1. <strike>단어와 형태소를 연구하는 **형태론(Morphology)** : 형태소 분석</strike>\n",
    "1. 문법과 맥락/담화를 각각 논의하는 **통사론(syntax)** : 문법적 구조분석(Passing)\n",
    "1. 단어간의 의미차이를 구분하는 **의미론(Senmantics)** : 뉘앙스, 톤, 말하고자 하는 의도(긍/부정)\n",
    "1. 그리고 한글과 영어의 문화적 차이\n",
    "<br>\n",
    "<img src=\"http://i.imgur.com/1bhgstG.png\" align=\"left\" width=\"650\"/>\n",
    "<br>"
   ]
  },
  {
   "cell_type": "markdown",
   "metadata": {},
   "source": [
    "<br>\n",
    "## **1 Parsing**\n",
    "1. 문법적 구조분석\n",
    "1. 형식문법(formal Grammer)으로 정의된 규칙에 부합여부를 찾는 작업\n",
    "1. 의미판별을 위해, Sense(감각) 혹은 의미(meaning)에 기초하여, 둘 이상의 동일한 철자 혹은 동일한 소리를 구별하는 직업이다"
   ]
  },
  {
   "cell_type": "markdown",
   "metadata": {},
   "source": [
    "<br>\n",
    "### **01 문법적 구조를 활용한 분석**\n",
    "형식문법(formal Grammer)으로 정의된 규칙에 부합여부를 찾는 작업"
   ]
  },
  {
   "cell_type": "code",
   "execution_count": 1,
   "metadata": {},
   "outputs": [
    {
     "name": "stdout",
     "output_type": "stream",
     "text": [
      "[('민병삼', 'Noun'), ('대령', 'Noun'), ('의', 'Josa'), ('항', 'Noun'), ('명', 'Suffix'), ('행위', 'Noun'), ('로', 'Josa'), ('초치', 'Noun'), ('하다', 'Verb')]\n",
      "CPU times: user 3.27 s, sys: 96.7 ms, total: 3.36 s\n",
      "Wall time: 1.33 s\n"
     ]
    }
   ],
   "source": [
    "%%time\n",
    "# 앞부분 Review\n",
    "text = '민병삼 대령의 항명행위로 초치했다'\n",
    "\n",
    "from konlpy.tag import Twitter\n",
    "twitter = Twitter()\n",
    "words = twitter.pos(text, stem=True)\n",
    "print(words)"
   ]
  },
  {
   "cell_type": "code",
   "execution_count": 2,
   "metadata": {},
   "outputs": [
    {
     "data": {
      "image/png": "[encoded data removed]",
      "text/plain": [
       "Tree('S', [Tree('NP', [('민병삼', 'Noun'), ('대령', 'Noun')]), ('의', 'Josa'), Tree('NP', [('항', 'Noun'), ('명', 'Suffix')]), Tree('NP', [('행위', 'Noun')]), ('로', 'Josa'), Tree('NP', [('초치', 'Noun')]), Tree('VP', [('하다', 'Verb')])])"
      ]
     },
     "execution_count": 2,
     "metadata": {},
     "output_type": "execute_result"
    }
   ],
   "source": [
    "%matplotlib inline\n",
    "from nltk import RegexpParser\n",
    "\n",
    "grammar = \"\"\"\n",
    "NP: {<N.*>*<Suffix>?}   # 명사구를 정의한다\n",
    "VP: {<V.*>*}            # 동사구를 정의한다\n",
    "AP: {<A.*>*}            # 형용사구를 정의한다 \"\"\"\n",
    "parser = RegexpParser(grammar)\n",
    "chunks = parser.parse(words)\n",
    "chunks"
   ]
  },
  {
   "cell_type": "code",
   "execution_count": 3,
   "metadata": {},
   "outputs": [],
   "source": [
    "# 영어 같은 경우 (nltk) 문법 규칙들이 많이 성립되어 있어다\n",
    "# 1) CFG (Context Free Grammer) : '노암촘스키'가 만든 문법기준\n",
    "# 2) ATIS 문법 : 공항 안내시스템 개발용 문법규칙\n",
    "# 3) CKY 차트 파싱 알고리즘 "
   ]
  },
  {
   "cell_type": "markdown",
   "metadata": {},
   "source": [
    "<br>\n",
    "### **ex) Penn Treebank corpus**\n",
    "Penn Treebank 의 Tags 추가하여 문법적 구조를 연구한 자료들을 NLTK에서 제공한다"
   ]
  },
  {
   "cell_type": "code",
   "execution_count": 4,
   "metadata": {},
   "outputs": [
    {
     "name": "stdout",
     "output_type": "stream",
     "text": [
      "['McDermott', 'International', 'Inc.', 'said', '0', ...]\n",
      "[('McDermott', 'NNP'), ('International', 'NNP'), ...]\n",
      "(S\n",
      "  (NP-SBJ\n",
      "    (NP (NNP Bailey) (NNP Controls))\n",
      "    (, ,)\n",
      "    (VP\n",
      "      (VBN based)\n",
      "      (NP (-NONE- *))\n",
      "      (PP-LOC-CLR\n",
      "        (IN in)\n",
      "        (NP (NP (NNP Wickliffe)) (, ,) (NP (NNP Ohio)))))\n",
      "    (, ,))\n",
      "  (VP\n",
      "    (VBZ makes)\n",
      "    (NP\n",
      "      (JJ computerized)\n",
      "      (JJ industrial)\n",
      "      (NNS controls)\n",
      "      (NNS systems)))\n",
      "  (. .))\n"
     ]
    }
   ],
   "source": [
    "# 개별 파일의 corpus 살펴보기\n",
    "from nltk.corpus import treebank\n",
    "# 단어 확인\n",
    "print(treebank.words('wsj_0007.mrg'))        \n",
    "# 단어와 Tagging 확인\n",
    "print(treebank.tagged_words('wsj_0007.mrg')) \n",
    "# from nltk.corpus import treebank\n",
    "print(treebank.parsed_sents('wsj_0007.mrg')[2])"
   ]
  },
  {
   "cell_type": "code",
   "execution_count": 5,
   "metadata": {},
   "outputs": [
    {
     "name": "stdout",
     "output_type": "stream",
     "text": [
      "Grammar with 23 productions (start state = S)\n",
      "    S -> NP VP [1.0]\n",
      "    VP -> V NP [0.59]\n",
      "    VP -> V [0.4]\n",
      "    VP -> VP PP [0.01]\n",
      "    NP -> Det N [0.41]\n",
      "    NP -> Name [0.28]\n",
      "    NP -> NP PP [0.31]\n",
      "    PP -> P NP [1.0]\n",
      "    V -> 'saw' [0.21]\n",
      "    V -> 'ate' [0.51]\n",
      "    V -> 'ran' [0.28]\n",
      "    N -> 'boy' [0.11]\n",
      "    N -> 'cookie' [0.12]\n",
      "    N -> 'table' [0.13]\n",
      "    N -> 'telescope' [0.14]\n",
      "    N -> 'hill' [0.5]\n",
      "    Name -> 'Jack' [0.52]\n",
      "    Name -> 'Bob' [0.48]\n",
      "    P -> 'with' [0.61]\n",
      "    P -> 'under' [0.39]\n",
      "    Det -> 'the' [0.41]\n",
      "    Det -> 'a' [0.31]\n",
      "    Det -> 'my' [0.28]\n"
     ]
    }
   ],
   "source": [
    "# 확률적 차트 파싱\n",
    "from nltk.grammar import toy_pcfg2\n",
    "tokens = \"Jack told Bob to bring my cookie\".split()\n",
    "grammar = toy_pcfg2\n",
    "print(grammar)"
   ]
  },
  {
   "cell_type": "markdown",
   "metadata": {},
   "source": [
    "<br>\n",
    "### **02 어휘망 구조를 활용한 분석**\n",
    "#### **ex) Word Net을 사용한 의미판별**\n",
    "1. 워드넷은 개념을 바탕으로 네트워크를 구축한 대용량 지식베이스이다. \n",
    "1. 기본적인 개념 DB는 단어별 정의를 기록하고\n",
    "1. 시소러스(동의어 반의어 사전) DB 에서는 용어 간 관계를 나타내기 위해 상하위관계, 동등관계, 부분-전체관계, 연관관계, 사례관계 등을 활용한다 \n",
    "1. 워드넷에서는 동의관계, 반의관계, 상의관계, 하의관계, 분의 관계, 양식관계, 함의관계를 이용한 DB를 구축한다\n",
    "<br>\n",
    "\n",
    "<img src=\"http://www.nltk.org/images/wordnet-hierarchy.png\" align=\"left\" width=\"700\">"
   ]
  },
  {
   "cell_type": "code",
   "execution_count": 6,
   "metadata": {},
   "outputs": [
    {
     "name": "stdout",
     "output_type": "stream",
     "text": [
      "negation       \t-\n",
      "conjunction    \t&\n",
      "disjunction    \t|\n",
      "implication    \t->\n",
      "equivalence    \t<->\n"
     ]
    }
   ],
   "source": [
    "# negation(부정)       \t-\n",
    "# conjunction(연결)    \t&\n",
    "# disjunction(분리)    \t|\n",
    "# implication(암시)    \t->\n",
    "# equivalence(동등)    \t<->\n",
    "\n",
    "# Boolean로 사용가능한 연산자를 출력\n",
    "import nltk\n",
    "nltk.boolean_ops()"
   ]
  },
  {
   "cell_type": "markdown",
   "metadata": {},
   "source": [
    "<br>\n",
    "### **유사성 알고리즘 :Path Distance Similarity**\n",
    "https://www.youtube.com/watch?v=c9zcE1bQhm8\n",
    "\n",
    "<img src=\"https://image.slidesharecdn.com/lec-13-pptx-lsa303-introduction-to-computational-linguistics2632/95/lec-13-pptx-lsa303-introduction-to-computational-linguistics-37-638.jpg?cb=1422299155\" align=\"left\" width=\"400px\"/>"
   ]
  },
  {
   "cell_type": "markdown",
   "metadata": {},
   "source": [
    "<br>\n",
    "### **Wu-Palmer Similarity** \n",
    "https://www.slideshare.net/sharaf/text-similarity\n",
    "\n",
    "<img src=\"https://image.slidesharecdn.com/textsimilarity-100211062411-phpapp02/95/text-similarity-16-728.jpg?cb=1265869478\" align=\"left\" width=\"400px\"/>"
   ]
  },
  {
   "cell_type": "markdown",
   "metadata": {},
   "source": [
    "<br></br>\n",
    "### **ex) Earley 차트 파싱 알고리즘**\n",
    "1970년 발표한 알고리즘으로 Top-Down 파싱과 유사하고 좌측방향 재귀처리를 통해서 문장을 분석한다"
   ]
  },
  {
   "cell_type": "code",
   "execution_count": 7,
   "metadata": {},
   "outputs": [
    {
     "name": "stdout",
     "output_type": "stream",
     "text": [
      "\n",
      "Grammar with 18 productions (start state = S[])\n",
      "    S[] -> NP[] VP[]\n",
      "    PP[] -> Prep[] NP[]\n",
      "    NP[] -> NP[] PP[]\n",
      "    VP[] -> VP[] PP[]\n",
      "    VP[] -> Verb[] NP[]\n",
      "    VP[] -> Verb[]\n",
      "    NP[] -> Det[pl=?x] Noun[pl=?x]\n",
      "    NP[] -> 'John'\n",
      "    NP[] -> 'I'\n",
      "    Det[] -> 'the'\n",
      "    Det[] -> 'my'\n",
      "    Det[-pl] -> 'a'\n",
      "    Noun[-pl] -> 'dog'\n",
      "    Noun[-pl] -> 'cookie'\n",
      "    Verb[] -> 'ate'\n",
      "    Verb[] -> 'saw'\n",
      "    Prep[] -> 'with'\n",
      "    Prep[] -> 'under'\n",
      "\n",
      "* FeatureChartParser\n",
      "Sentence: I saw a dog\n",
      "|. I .saw. a .dog.|\n",
      "|[---]   .   .   .| [0:1] 'I'\n",
      "|.   [---]   .   .| [1:2] 'saw'\n",
      "|.   .   [---]   .| [2:3] 'a'\n",
      "|.   .   .   [---]| [3:4] 'dog'\n",
      "|[---]   .   .   .| [0:1] NP[] -> 'I' *\n",
      "|[--->   .   .   .| [0:1] S[] -> NP[] * VP[] {}\n",
      "|[--->   .   .   .| [0:1] NP[] -> NP[] * PP[] {}\n",
      "|.   [---]   .   .| [1:2] Verb[] -> 'saw' *\n",
      "|.   [--->   .   .| [1:2] VP[] -> Verb[] * NP[] {}\n",
      "|.   [---]   .   .| [1:2] VP[] -> Verb[] *\n",
      "|.   [--->   .   .| [1:2] VP[] -> VP[] * PP[] {}\n",
      "|[-------]   .   .| [0:2] S[] -> NP[] VP[] *\n",
      "|.   .   [---]   .| [2:3] Det[-pl] -> 'a' *\n",
      "|.   .   [--->   .| [2:3] NP[] -> Det[pl=?x] * Noun[pl=?x] {?x: False}\n",
      "|.   .   .   [---]| [3:4] Noun[-pl] -> 'dog' *\n",
      "|.   .   [-------]| [2:4] NP[] -> Det[-pl] Noun[-pl] *\n",
      "|.   .   [------->| [2:4] S[] -> NP[] * VP[] {}\n",
      "|.   .   [------->| [2:4] NP[] -> NP[] * PP[] {}\n",
      "|.   [-----------]| [1:4] VP[] -> Verb[] NP[] *\n",
      "|.   [----------->| [1:4] VP[] -> VP[] * PP[] {}\n",
      "|[===============]| [0:4] S[] -> NP[] VP[] *\n",
      "(S[]\n",
      "  (NP[] I)\n",
      "  (VP[] (Verb[] saw) (NP[] (Det[-pl] a) (Noun[-pl] dog))))\n"
     ]
    }
   ],
   "source": [
    "# NLTK 차트파서를 사용한 파싱\n",
    "import nltk\n",
    "nltk.parse.featurechart.demo( print_times = False, print_grammar = True, \n",
    "                             parser = nltk.parse.featurechart.FeatureChartParser, sent = 'I saw a dog' )"
   ]
  },
  {
   "cell_type": "markdown",
   "metadata": {},
   "source": [
    "<br>\n",
    "## 한글의 말뭉치의 경우\n",
    "1. 2007년에 멈춘이유 : https://www.bloter.net/archives/260569\n",
    "1. 2017년 11월 : http://www.yonhapnews.co.kr/bulletin/2017/10/08/0200000000AKR20171008048600005.HTML\n",
    "1. http://news.mk.co.kr/newsRead.php?sc=30100009&cm=&no=443475&year=2018"
   ]
  },
  {
   "cell_type": "markdown",
   "metadata": {},
   "source": [
    "<br>\n",
    "## **2 Semantic Analysis**\n",
    "의미분석"
   ]
  },
  {
   "cell_type": "markdown",
   "metadata": {},
   "source": [
    "<br>\n",
    "### **01 DataBase 의 활용**\n",
    "감정분석 : lexicon (어휘목록) 을 사용해서 수행할 수 있다\n",
    "1. labMT (10,000단어 분석)\n",
    "2. Warringer (13,915단어 분석)\n",
    "3. OpinionFinder's Subjectivity Lexic (8221단어 분석)\n",
    "4. ANEW  (1034단어 분석)    : Affective Norms for English Words\n",
    "5. AFINN (2477단어 분석)    : Finn Arup Nielson 에 의한 분류\n",
    "6. Balance Affective (277 단어) : 1(긍정), 2(부정), 3(불안정), 4(중립)\n",
    "7. BAWL  (2200단어 분석)    : Berlin Affective Word List Reloaded\n",
    "8. BFAN  (210단어로 구성)    : Bilingual Finnish Affective Norms\n",
    "9. CDGE  : Compass DeRose Guide to Emotion Words\n",
    "10. DAL  : Dictionary of Affect in Language\n",
    "11. WDAL : Whissell's Dictionary of Affect in Language\n",
    "12. etc...."
   ]
  },
  {
   "cell_type": "markdown",
   "metadata": {},
   "source": [
    "<br>\n",
    "### **02 On tology 구축**\n",
    "1. 철학의 분과 학문 가운데 형이상학의 대표적인 세부 학제 중 하나. \n",
    "1. 전통적으로 \"존재로서의 존재(being qua being)\"를 다루는 학제로 정의\n",
    "1. 컴퓨터과학에서는 이를 응용하여 **컴퓨터 공간 상에서 데이터 및 데이터들을 아우르는 개념들에 관한 \"존재론\"** 을 의미하는 용도로 활용\n",
    "\n",
    "<img src=\"https://image.slidesharecdn.com/kswc2009-091206064639-phpapp02/95/-18-728.jpg\" align='left' width='500'>"
   ]
  },
  {
   "cell_type": "markdown",
   "metadata": {},
   "source": [
    "<br>\n",
    "## **2 나이브베이즈 활용**\n",
    "감정분석 : lexicon (어휘목록) 을 사용해서 수행할 수 있다\n",
    "\n",
    "1. 어휘 목록이 없는 경우 머신러닝 이론을 활용\n",
    "1. 나이브베이즈 이론을 활용한다 (https://www.youtube.com/watch?list=PLVNY1HnUlO241gILgQloWAs0xrrkqQfKe&v=3JWLIV3NaoQ)\n",
    "1. 구글을 스팸메일 Filtering 에 사용되는 방법\n",
    "1. 독립적 개별 단어가 나타날 확률(Likelyhood(우도값))을 사용하여 해당 문서를 구분한다\n",
    "1. 우선순위를 정하지 않아서 구조가 간단하고 결과론적으로 성능도 좋아서 아직까지도 많이 사용되는 이론이다\n",
    "1. http://gomguard.tistory.com/69\n",
    "1. https://ratsgo.github.io/machine%20learning/2017/05/18/naive/"
   ]
  },
  {
   "cell_type": "markdown",
   "metadata": {},
   "source": [
    "<br>\n",
    "### **01 NLKT의 영화리뷰 활용**\n",
    "1. nltk 에 기본제공되는 긍정/ 부정 영화리뷰 1000개를 활용\n",
    "1. nltk.NaiveBayesClassifier() 로 모델을 학습한 뒤 이를 활용한다"
   ]
  },
  {
   "cell_type": "code",
   "execution_count": 8,
   "metadata": {},
   "outputs": [
    {
     "name": "stdout",
     "output_type": "stream",
     "text": [
      "Category : ['neg', 'pos']\n",
      "  Length : 1000\n",
      "\n",
      "pos_file_list : ['neg/cv000_29416.txt', 'neg/cv001_19502.txt', 'neg/cv002_17424.txt', 'neg/cv003_12683.txt', 'neg/cv004_12641.txt'] \n",
      "neg_file_list : ['pos/cv000_29590.txt', 'pos/cv001_18431.txt', 'pos/cv002_15918.txt', 'pos/cv003_11664.txt', 'pos/cv004_11636.txt']\n"
     ]
    }
   ],
   "source": [
    "# 긍정 리뷰 1000 개, 부정 리뷰 1000 개 nltk 모듈에 저장\n",
    "from nltk.corpus import movie_reviews\n",
    "\n",
    "print('Category : {}\\n  Length : {}'.format(\n",
    "    movie_reviews.categories(),\n",
    "    len(movie_reviews.fileids(movie_reviews.categories()[1])) ))\n",
    "\n",
    "print('\\npos_file_list : {} \\nneg_file_list : {}'.format(\n",
    "    movie_reviews.fileids(movie_reviews.categories()[0])[:5],\n",
    "    movie_reviews.fileids(movie_reviews.categories()[1])[:5] ))"
   ]
  },
  {
   "cell_type": "code",
   "execution_count": 9,
   "metadata": {},
   "outputs": [],
   "source": [
    "# ! cat /home/markbaum/nltk_data/corpora/movie_reviews/neg/cv435_24355.txt\n",
    "example = \"\"\"a couple of criminals ( mario van peebles and loretta devine ) move into a rich family's house in \n",
    "hopes of conning them out of their jewels . however... \"\"\""
   ]
  },
  {
   "cell_type": "code",
   "execution_count": 10,
   "metadata": {},
   "outputs": [
    {
     "data": {
      "text/plain": [
       "FreqDist({',': 77717, 'the': 76529, '.': 65876, 'a': 38106, 'and': 35576, 'of': 34123, 'to': 31937, \"'\": 30585, 'is': 25195, 'in': 21822, ...})"
      ]
     },
     "execution_count": 10,
     "metadata": {},
     "output_type": "execute_result"
    }
   ],
   "source": [
    "# 긍/부정 분류된 textdml token을 뒤섞어서 1개로 합친다\n",
    "# 39,768개 중  2,000개  Train 데이터 표본의 추출\n",
    "import nltk, random\n",
    "docs = [(list(movie_reviews.words(fid)), cat) \n",
    "        for cat in movie_reviews.categories()   # ['neg', 'pos']\n",
    "        for fid in movie_reviews.fileids(cat)]  # 'neg/cv000_29416.txt', ....\n",
    "\n",
    "random.shuffle(docs)\n",
    "all_tokens     = nltk.FreqDist(x.lower()    for  x  in  movie_reviews.words())\n",
    "token_features = list(all_tokens.keys())[:2000]\n",
    "all_tokens"
   ]
  },
  {
   "cell_type": "code",
   "execution_count": 11,
   "metadata": {},
   "outputs": [],
   "source": [
    "# 리뷰 데이터의 Token이 표본DB 포함여부 판단\n",
    "# 리뷰 txt의 token을 집합으로 추출\n",
    "def doc_features(docs):\n",
    "    doc_words = set(docs)      \n",
    "    features  = {'word( %s )'%word : (word in doc_words) \n",
    "                 for word in token_features }\n",
    "    return features"
   ]
  },
  {
   "cell_type": "code",
   "execution_count": 12,
   "metadata": {},
   "outputs": [
    {
     "name": "stdout",
     "output_type": "stream",
     "text": [
      "Accuracy : 0.78\n",
      "Most Informative Features\n",
      "          word( justin ) = True              neg : pos    =      9.0 : 1.0\n",
      "   word( unimaginative ) = True              neg : pos    =      8.3 : 1.0\n",
      "          word( turkey ) = True              neg : pos    =      7.9 : 1.0\n",
      "         word( martian ) = True              neg : pos    =      7.7 : 1.0\n",
      "      word( schumacher ) = True              neg : pos    =      7.4 : 1.0\n",
      "          word( shoddy ) = True              neg : pos    =      7.0 : 1.0\n",
      "       word( atrocious ) = True              neg : pos    =      6.6 : 1.0\n",
      "         word( singers ) = True              pos : neg    =      6.3 : 1.0\n",
      "            word( mena ) = True              neg : pos    =      6.3 : 1.0\n",
      "          word( suvari ) = True              neg : pos    =      6.3 : 1.0\n"
     ]
    }
   ],
   "source": [
    "# docs (긍/부정리뷰의 token 모음) 데이터의 \n",
    "# Train(90%), Test(10%)로 나눈다 \n",
    "feature_sets = [(doc_features(d), c) for (d,c) in docs]\n",
    "train_sets, test_sets = feature_sets[100:], feature_sets[:100]\n",
    "\n",
    "# 나이브 베이즈 분류기로 정확도를 판단\n",
    "classifiers = nltk.NaiveBayesClassifier.train(train_sets)\n",
    "print('Accuracy :', nltk.classify.accuracy(classifiers, test_sets))\n",
    "classifiers.show_most_informative_features() "
   ]
  },
  {
   "cell_type": "markdown",
   "metadata": {},
   "source": [
    "<img src=\"https://i.imgur.com/u5kdniF.png\" align=\"left\" width='800'>"
   ]
  },
  {
   "cell_type": "markdown",
   "metadata": {},
   "source": [
    "<br>\n",
    "### **02 Gensim 을 활용한  긍정/ 부정 영화리뷰 활용**\n",
    "1. Naver 영화 리뷰 14,000개의 데이터를 활용한다\n",
    "1. 관련 GitHub (https://github.com/e9t/nsmc)\n",
    "1. 관련 Slide 2015 PyCon (https://www.lucypark.kr/slides/2015-pyconkr/)"
   ]
  },
  {
   "cell_type": "markdown",
   "metadata": {},
   "source": [
    "### DataSet \n",
    "Naver sentiment movie corpus v1.0\n",
    "1. Maas et al., 2011 데이터셋 참고\n",
    "1. 데이터 출처: 네이버\n",
    "1. 영화 당 100개의 140자평(이하 '리뷰')을 초과하지 않음\n",
    "1. 총 20만 개 리뷰 **ratings.txt** (수집된 64만개 중 샘플링)\n",
    "    1. **ratings_train.txt** : 15만, **ratings_test.txt** : 5만\n",
    "    1. 긍정/부정 리뷰의 비율을 동일하게 샘플링 (i.e., random guess yields 50% accuracy)\n",
    "    1. 중립 리뷰는 포함하지 않음\n"
   ]
  },
  {
   "cell_type": "code",
   "execution_count": 13,
   "metadata": {},
   "outputs": [
    {
     "name": "stdout",
     "output_type": "stream",
     "text": [
      "id\tdocument\tlabel\r\n",
      "9976970\t아 더빙.. 진짜 짜증나네요 목소리\t0\r\n",
      "3819312\t흠...포스터보고 초딩영화줄....오버연기조차 가볍지 않구나\t1\r\n",
      "10265843\t너무재밓었다그래서보는것을추천한다\t0\r\n",
      "9045019\t교도소 이야기구먼 ..솔직히 재미는 없다..평점 조정\t0\r\n",
      "cat: 쓰기 오류: 파이프가 깨어짐\r\n"
     ]
    }
   ],
   "source": [
    "! cat ./data/ratings_train.txt | head -n 5"
   ]
  },
  {
   "cell_type": "markdown",
   "metadata": {},
   "source": [
    "<br>\n",
    "#### ** 1) TEXT 데이터 가공하기**\n",
    "1. text 파일을 불러오기\n",
    "1. 불러온 데이터를 Konlpy 로 tag 추가하기"
   ]
  },
  {
   "cell_type": "code",
   "execution_count": 15,
   "metadata": {},
   "outputs": [
    {
     "name": "stdout",
     "output_type": "stream",
     "text": [
      "Train_data : 3000\n",
      "sample     : [['420335', '니시다의 엥? 너무 귀엽고 웃겨요', '1'], ['5621345', '캐스팅 망..ㅡㅜ', '0'], ['6803263', '아 진짜 안볼려고 하는데 자꾸 보고있는 나~보고있으면 열받고~~강이경 처음에는 불쌍하다고 생각했는데 이제 짜증난다 착한척도 정도것이지~~ 그만 착한척 하고 반전을 보여주시징~~', '0']]\n",
      "Test_data  : 1000\n",
      "sample     : [['2142315', '그들에게도 인권을 찾게하자는거에 동의하지만 편향적인 시각이 짙은 영화', '0'], ['9622024', '그냥... 괴물 영화...', '1'], ['7117075', '내가 본 최고의 미드.. 포로 로마노에 서 있어도 롬이 떠오를 것 같다!', '1']]\n"
     ]
    }
   ],
   "source": [
    "# 리뷰 Text를 Python 객체로 불러온다\n",
    "def read_data(filename):\n",
    "    with open(filename, 'r') as f:\n",
    "        data = [line.split('\\t') for line in f.read().splitlines()]\n",
    "        data = data[1:]   # header 제외\n",
    "        \n",
    "    from random import randint\n",
    "    random_data = [data[randint(1, len(data))]  for no in range(int(len(data)/50)) ]\n",
    "    return random_data\n",
    "\n",
    "train_data = read_data('./data/ratings_train.txt')\n",
    "test_data  = read_data('./data/ratings_test.txt')\n",
    "print('Train_data : {}\\nsample     : {}'.format(len(train_data), train_data[:3]))\n",
    "print('Test_data  : {}\\nsample     : {}'.format(len(test_data), test_data[:3]))"
   ]
  },
  {
   "cell_type": "code",
   "execution_count": 16,
   "metadata": {},
   "outputs": [
    {
     "name": "stdout",
     "output_type": "stream",
     "text": [
      "[(['니시다/Noun',\n",
      "   '의/Josa',\n",
      "   '엥/Exclamation',\n",
      "   '?/Punctuation',\n",
      "   '너무/Noun',\n",
      "   '귀엽다/Adjective',\n",
      "   '웃기다/Verb'],\n",
      "  '1'),\n",
      " (['캐스팅/Noun', '망/Noun', '../Punctuation', 'ㅡㅜ/KoreanParticle'], '0')]\n",
      "CPU times: user 10.2 s, sys: 85.6 ms, total: 10.2 s\n",
      "Wall time: 5.07 s\n"
     ]
    }
   ],
   "source": [
    "%%time\n",
    "from konlpy.tag import Twitter\n",
    "pos_tagger = Twitter()\n",
    "\n",
    "def tokenize(doc):\n",
    "    result = ['/'.join(t) for t in pos_tagger.pos(doc, norm=True, stem=True)]\n",
    "    return result \n",
    "\n",
    "train_docs = [(tokenize(row[1]), row[2])    for row in train_data]\n",
    "test_docs  = [(tokenize(row[1]), row[2])    for row in test_data]\n",
    "\n",
    "from pprint import pprint\n",
    "pprint(train_docs[:2])"
   ]
  },
  {
   "cell_type": "code",
   "execution_count": 17,
   "metadata": {},
   "outputs": [
    {
     "name": "stdout",
     "output_type": "stream",
     "text": [
      "43044\n"
     ]
    }
   ],
   "source": [
    "# 인덱스와 긍/부정평가를 제외한 Train_data 의 Token만 추출하여 목록을 만든다\n",
    "tokens = [t   for d in train_docs \n",
    "              for t in d[0]]\n",
    "print(len(tokens))"
   ]
  },
  {
   "cell_type": "markdown",
   "metadata": {},
   "source": [
    "<br>\n",
    "#### ** 2) nltk 연산 모델 활용하기**\n",
    "1. nltk.Text()를 활용하면 Exploration이 편하다\n",
    "1. 필요한 함수들을 만들기 보다는, nltk/ Gensim에 마련된 모듈"
   ]
  },
  {
   "cell_type": "code",
   "execution_count": 18,
   "metadata": {},
   "outputs": [
    {
     "name": "stdout",
     "output_type": "stream",
     "text": [
      "number of Token : 43044 \n",
      "unique Token    : 6677\n",
      "\n",
      "[('./Punctuation', 1328),\n",
      " ('영화/Noun', 993),\n",
      " ('하다/Verb', 963),\n",
      " ('이/Josa', 761),\n",
      " ('보다/Verb', 640),\n",
      " ('../Punctuation', 592),\n",
      " ('의/Josa', 580),\n",
      " ('에/Josa', 522),\n",
      " ('가/Josa', 494),\n",
      " ('도/Josa', 481)]\n"
     ]
    }
   ],
   "source": [
    "# returns frequency distribution\n",
    "import nltk\n",
    "text = nltk.Text(tokens, name='NMSC')\n",
    "print(\"number of Token : {} \\nunique Token    : {}\\n\".format(\n",
    "    len(text.tokens), len(set(text.tokens))))\n",
    "pprint(text.vocab().most_common(10))    "
   ]
  },
  {
   "cell_type": "code",
   "execution_count": 19,
   "metadata": {},
   "outputs": [
    {
     "data": {
      "image/png": "[encoded data removed]",
      "text/plain": [
       "<matplotlib.figure.Figure at 0x7f5cf827def0>"
      ]
     },
     "metadata": {},
     "output_type": "display_data"
    }
   ],
   "source": [
    "%matplotlib inline\n",
    "from matplotlib import font_manager, rc\n",
    "# 한글폰트를 별도로 불러온다\n",
    "font_fname = './data/D2Coding.ttf'     \n",
    "font_name = font_manager.FontProperties(fname=font_fname).get_name()\n",
    "rc('font', family=font_name)\n",
    "\n",
    "import matplotlib.pyplot as plt\n",
    "plt.figure(figsize=(16,5))\n",
    "text.plot(50) "
   ]
  },
  {
   "cell_type": "markdown",
   "metadata": {},
   "source": [
    "<br>\n",
    "#### ** 2) 모델의 정확도/ 일반화를 높이는 모델을 만든다**\n",
    "1. 6,500 개의 token 중 상위 2,000 개를 활용하여 모델을 만든다\n",
    "1. 앞에서 살펴본 tf-idf 에서 알 수 있듯이 과연 빈도가 높다고 식별력이 좋은 단어인지는 의심을 필요\n",
    "1. 전체 DataSet을 기본으로 idf 값들을 연산한 뒤, 이를 바탕으로 고빈도의 sample을 추출후\n",
    "1. .most_common() 중에서도 **tf-idf** 비중을 포함한 가중치를 연산하면 더 좋은 결과를 도출 가능하다"
   ]
  },
  {
   "cell_type": "code",
   "execution_count": 20,
   "metadata": {},
   "outputs": [
    {
     "name": "stdout",
     "output_type": "stream",
     "text": [
      "CPU times: user 6.88 s, sys: 288 ms, total: 7.17 s\n",
      "Wall time: 7.17 s\n"
     ]
    }
   ],
   "source": [
    "%%time\n",
    "# 여기서는 최빈도 단어 2000개를 사용\n",
    "selected_words = [f[0] for f in text.vocab().most_common(2000)]\n",
    "def term_exists(doc):\n",
    "    return {'exists({})'.format(word): (word in set(doc)) for word in selected_words}\n",
    "\n",
    "# 시간과 효율성을 높이기 위해서 training corpus의 일부만 사용한다\n",
    "train_docs = train_docs[:10000]\n",
    "train_xy   = [(term_exists(d), c) for d, c in train_docs]\n",
    "test_xy    = [(term_exists(d), c) for d, c in test_docs]"
   ]
  },
  {
   "cell_type": "code",
   "execution_count": 21,
   "metadata": {},
   "outputs": [
    {
     "name": "stdout",
     "output_type": "stream",
     "text": [
      "0.776\n",
      "Most Informative Features\n",
      "        exists(쓰레기/Noun) = True                0 : 1      =     30.5 : 1.0\n",
      "          exists(굿/Noun) = True                1 : 0      =     16.6 : 1.0\n",
      "   exists(아깝다/Adjective) = True                0 : 1      =     15.8 : 1.0\n",
      "         exists(대박/Noun) = True                1 : 0      =     15.3 : 1.0\n",
      "        exists(도대체/Noun) = True                0 : 1      =     13.9 : 1.0\n",
      "exists(ㅡㅡ/KoreanParticle) = True                0 : 1      =     13.0 : 1.0\n",
      "          exists(냐/Josa) = True                0 : 1      =     12.4 : 1.0\n",
      "         exists(짜증/Noun) = True                0 : 1      =     12.4 : 1.0\n",
      "         exists(공포/Noun) = True                0 : 1      =     11.7 : 1.0\n",
      "         exists(우리/Noun) = True                1 : 0      =     11.6 : 1.0\n",
      "CPU times: user 12.1 s, sys: 7.62 ms, total: 12.1 s\n",
      "Wall time: 12.1 s\n"
     ]
    }
   ],
   "source": [
    "%%time\n",
    "classifier = nltk.NaiveBayesClassifier.train(train_xy)\n",
    "print('네이버 긍부정 모델의 Accuracy : {}'.format(\n",
    "    nltk.classify.accuracy(classifier, test_xy)))\n",
    "# => 0.80418\n",
    "classifier.show_most_informative_features(10)"
   ]
  },
  {
   "cell_type": "code",
   "execution_count": 22,
   "metadata": {},
   "outputs": [],
   "source": [
    "# 전체를 사용하면 0.804가 나오지만\n",
    "# 1 / 50 을 사용한 모델에서는 이보다는 약간 낮은 0.79의 정확도를 검증가능한 모델이 생성되었다"
   ]
  }
 ],
 "metadata": {
  "kernelspec": {
   "display_name": "Python 3",
   "language": "python",
   "name": "python3"
  },
  "language_info": {
   "codemirror_mode": {
    "name": "ipython",
    "version": 3
   },
   "file_extension": ".py",
   "mimetype": "text/x-python",
   "name": "python",
   "nbconvert_exporter": "python",
   "pygments_lexer": "ipython3",
   "version": "3.6.3"
  }
 },
 "nbformat": 4,
 "nbformat_minor": 2
}
